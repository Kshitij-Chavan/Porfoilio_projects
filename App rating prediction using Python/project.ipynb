{
 "cells": [
  {
   "cell_type": "code",
   "execution_count": 1,
   "id": "12bdd88e",
   "metadata": {},
   "outputs": [],
   "source": [
    "import pandas as pd\n",
    "import numpy as np\n",
    "import matplotlib.pyplot as plt\n",
    "import seaborn as sns\n",
    "%matplotlib inline"
   ]
  },
  {
   "cell_type": "markdown",
   "id": "629a613e",
   "metadata": {},
   "source": [
    "## 1. Load the data file using pandas. "
   ]
  },
  {
   "cell_type": "code",
   "execution_count": 2,
   "id": "56ca661a",
   "metadata": {},
   "outputs": [
    {
     "data": {
      "text/html": [
       "<div>\n",
       "<style scoped>\n",
       "    .dataframe tbody tr th:only-of-type {\n",
       "        vertical-align: middle;\n",
       "    }\n",
       "\n",
       "    .dataframe tbody tr th {\n",
       "        vertical-align: top;\n",
       "    }\n",
       "\n",
       "    .dataframe thead th {\n",
       "        text-align: right;\n",
       "    }\n",
       "</style>\n",
       "<table border=\"1\" class=\"dataframe\">\n",
       "  <thead>\n",
       "    <tr style=\"text-align: right;\">\n",
       "      <th></th>\n",
       "      <th>App</th>\n",
       "      <th>Category</th>\n",
       "      <th>Rating</th>\n",
       "      <th>Reviews</th>\n",
       "      <th>Size</th>\n",
       "      <th>Installs</th>\n",
       "      <th>Type</th>\n",
       "      <th>Price</th>\n",
       "      <th>Content Rating</th>\n",
       "      <th>Genres</th>\n",
       "      <th>Last Updated</th>\n",
       "      <th>Current Ver</th>\n",
       "      <th>Android Ver</th>\n",
       "    </tr>\n",
       "  </thead>\n",
       "  <tbody>\n",
       "    <tr>\n",
       "      <th>0</th>\n",
       "      <td>Photo Editor &amp; Candy Camera &amp; Grid &amp; ScrapBook</td>\n",
       "      <td>ART_AND_DESIGN</td>\n",
       "      <td>4.1</td>\n",
       "      <td>159</td>\n",
       "      <td>19M</td>\n",
       "      <td>10,000+</td>\n",
       "      <td>Free</td>\n",
       "      <td>0</td>\n",
       "      <td>Everyone</td>\n",
       "      <td>Art &amp; Design</td>\n",
       "      <td>January 7, 2018</td>\n",
       "      <td>1.0.0</td>\n",
       "      <td>4.0.3 and up</td>\n",
       "    </tr>\n",
       "    <tr>\n",
       "      <th>1</th>\n",
       "      <td>Coloring book moana</td>\n",
       "      <td>ART_AND_DESIGN</td>\n",
       "      <td>3.9</td>\n",
       "      <td>967</td>\n",
       "      <td>14M</td>\n",
       "      <td>500,000+</td>\n",
       "      <td>Free</td>\n",
       "      <td>0</td>\n",
       "      <td>Everyone</td>\n",
       "      <td>Art &amp; Design;Pretend Play</td>\n",
       "      <td>January 15, 2018</td>\n",
       "      <td>2.0.0</td>\n",
       "      <td>4.0.3 and up</td>\n",
       "    </tr>\n",
       "    <tr>\n",
       "      <th>2</th>\n",
       "      <td>U Launcher Lite – FREE Live Cool Themes, Hide ...</td>\n",
       "      <td>ART_AND_DESIGN</td>\n",
       "      <td>4.7</td>\n",
       "      <td>87510</td>\n",
       "      <td>8.7M</td>\n",
       "      <td>5,000,000+</td>\n",
       "      <td>Free</td>\n",
       "      <td>0</td>\n",
       "      <td>Everyone</td>\n",
       "      <td>Art &amp; Design</td>\n",
       "      <td>August 1, 2018</td>\n",
       "      <td>1.2.4</td>\n",
       "      <td>4.0.3 and up</td>\n",
       "    </tr>\n",
       "    <tr>\n",
       "      <th>3</th>\n",
       "      <td>Sketch - Draw &amp; Paint</td>\n",
       "      <td>ART_AND_DESIGN</td>\n",
       "      <td>4.5</td>\n",
       "      <td>215644</td>\n",
       "      <td>25M</td>\n",
       "      <td>50,000,000+</td>\n",
       "      <td>Free</td>\n",
       "      <td>0</td>\n",
       "      <td>Teen</td>\n",
       "      <td>Art &amp; Design</td>\n",
       "      <td>June 8, 2018</td>\n",
       "      <td>Varies with device</td>\n",
       "      <td>4.2 and up</td>\n",
       "    </tr>\n",
       "    <tr>\n",
       "      <th>4</th>\n",
       "      <td>Pixel Draw - Number Art Coloring Book</td>\n",
       "      <td>ART_AND_DESIGN</td>\n",
       "      <td>4.3</td>\n",
       "      <td>967</td>\n",
       "      <td>2.8M</td>\n",
       "      <td>100,000+</td>\n",
       "      <td>Free</td>\n",
       "      <td>0</td>\n",
       "      <td>Everyone</td>\n",
       "      <td>Art &amp; Design;Creativity</td>\n",
       "      <td>June 20, 2018</td>\n",
       "      <td>1.1</td>\n",
       "      <td>4.4 and up</td>\n",
       "    </tr>\n",
       "  </tbody>\n",
       "</table>\n",
       "</div>"
      ],
      "text/plain": [
       "                                                 App        Category  Rating  \\\n",
       "0     Photo Editor & Candy Camera & Grid & ScrapBook  ART_AND_DESIGN     4.1   \n",
       "1                                Coloring book moana  ART_AND_DESIGN     3.9   \n",
       "2  U Launcher Lite – FREE Live Cool Themes, Hide ...  ART_AND_DESIGN     4.7   \n",
       "3                              Sketch - Draw & Paint  ART_AND_DESIGN     4.5   \n",
       "4              Pixel Draw - Number Art Coloring Book  ART_AND_DESIGN     4.3   \n",
       "\n",
       "  Reviews  Size     Installs  Type Price Content Rating  \\\n",
       "0     159   19M      10,000+  Free     0       Everyone   \n",
       "1     967   14M     500,000+  Free     0       Everyone   \n",
       "2   87510  8.7M   5,000,000+  Free     0       Everyone   \n",
       "3  215644   25M  50,000,000+  Free     0           Teen   \n",
       "4     967  2.8M     100,000+  Free     0       Everyone   \n",
       "\n",
       "                      Genres      Last Updated         Current Ver  \\\n",
       "0               Art & Design   January 7, 2018               1.0.0   \n",
       "1  Art & Design;Pretend Play  January 15, 2018               2.0.0   \n",
       "2               Art & Design    August 1, 2018               1.2.4   \n",
       "3               Art & Design      June 8, 2018  Varies with device   \n",
       "4    Art & Design;Creativity     June 20, 2018                 1.1   \n",
       "\n",
       "    Android Ver  \n",
       "0  4.0.3 and up  \n",
       "1  4.0.3 and up  \n",
       "2  4.0.3 and up  \n",
       "3    4.2 and up  \n",
       "4    4.4 and up  "
      ]
     },
     "execution_count": 2,
     "metadata": {},
     "output_type": "execute_result"
    }
   ],
   "source": [
    "data = pd.read_csv('googleplaystore.csv')\n",
    "data.head()"
   ]
  },
  {
   "cell_type": "markdown",
   "id": "f93f0648",
   "metadata": {},
   "source": [
    "## 2. Check for null values"
   ]
  },
  {
   "cell_type": "code",
   "execution_count": 3,
   "id": "119cc163",
   "metadata": {},
   "outputs": [
    {
     "data": {
      "text/plain": [
       "App                  0\n",
       "Category             0\n",
       "Rating            1474\n",
       "Reviews              0\n",
       "Size                 0\n",
       "Installs             0\n",
       "Type                 1\n",
       "Price                0\n",
       "Content Rating       1\n",
       "Genres               0\n",
       "Last Updated         0\n",
       "Current Ver          8\n",
       "Android Ver          3\n",
       "dtype: int64"
      ]
     },
     "execution_count": 3,
     "metadata": {},
     "output_type": "execute_result"
    }
   ],
   "source": [
    "data.isnull().sum()"
   ]
  },
  {
   "cell_type": "markdown",
   "id": "92cb8868",
   "metadata": {},
   "source": [
    "## 3. Drop records with nulls"
   ]
  },
  {
   "cell_type": "code",
   "execution_count": 4,
   "id": "c7d57fde",
   "metadata": {},
   "outputs": [],
   "source": [
    "data = data.dropna()"
   ]
  },
  {
   "cell_type": "markdown",
   "id": "8d043f93",
   "metadata": {},
   "source": [
    "## 4. Variables seem to have incorrect type and inconsistent formatting."
   ]
  },
  {
   "cell_type": "code",
   "execution_count": 5,
   "id": "434a273a",
   "metadata": {},
   "outputs": [
    {
     "data": {
      "text/html": [
       "<div>\n",
       "<style scoped>\n",
       "    .dataframe tbody tr th:only-of-type {\n",
       "        vertical-align: middle;\n",
       "    }\n",
       "\n",
       "    .dataframe tbody tr th {\n",
       "        vertical-align: top;\n",
       "    }\n",
       "\n",
       "    .dataframe thead th {\n",
       "        text-align: right;\n",
       "    }\n",
       "</style>\n",
       "<table border=\"1\" class=\"dataframe\">\n",
       "  <thead>\n",
       "    <tr style=\"text-align: right;\">\n",
       "      <th></th>\n",
       "      <th>index</th>\n",
       "      <th>App</th>\n",
       "      <th>Category</th>\n",
       "      <th>Rating</th>\n",
       "      <th>Reviews</th>\n",
       "      <th>Size</th>\n",
       "      <th>Installs</th>\n",
       "      <th>Type</th>\n",
       "      <th>Price</th>\n",
       "      <th>Content Rating</th>\n",
       "      <th>Genres</th>\n",
       "      <th>Last Updated</th>\n",
       "      <th>Current Ver</th>\n",
       "      <th>Android Ver</th>\n",
       "    </tr>\n",
       "  </thead>\n",
       "  <tbody>\n",
       "    <tr>\n",
       "      <th>0</th>\n",
       "      <td>0</td>\n",
       "      <td>Photo Editor &amp; Candy Camera &amp; Grid &amp; ScrapBook</td>\n",
       "      <td>ART_AND_DESIGN</td>\n",
       "      <td>4.1</td>\n",
       "      <td>159</td>\n",
       "      <td>19M</td>\n",
       "      <td>10,000+</td>\n",
       "      <td>Free</td>\n",
       "      <td>0</td>\n",
       "      <td>Everyone</td>\n",
       "      <td>Art &amp; Design</td>\n",
       "      <td>January 7, 2018</td>\n",
       "      <td>1.0.0</td>\n",
       "      <td>4.0.3 and up</td>\n",
       "    </tr>\n",
       "    <tr>\n",
       "      <th>1</th>\n",
       "      <td>1</td>\n",
       "      <td>Coloring book moana</td>\n",
       "      <td>ART_AND_DESIGN</td>\n",
       "      <td>3.9</td>\n",
       "      <td>967</td>\n",
       "      <td>14M</td>\n",
       "      <td>500,000+</td>\n",
       "      <td>Free</td>\n",
       "      <td>0</td>\n",
       "      <td>Everyone</td>\n",
       "      <td>Art &amp; Design;Pretend Play</td>\n",
       "      <td>January 15, 2018</td>\n",
       "      <td>2.0.0</td>\n",
       "      <td>4.0.3 and up</td>\n",
       "    </tr>\n",
       "    <tr>\n",
       "      <th>2</th>\n",
       "      <td>2</td>\n",
       "      <td>U Launcher Lite – FREE Live Cool Themes, Hide ...</td>\n",
       "      <td>ART_AND_DESIGN</td>\n",
       "      <td>4.7</td>\n",
       "      <td>87510</td>\n",
       "      <td>8.7M</td>\n",
       "      <td>5,000,000+</td>\n",
       "      <td>Free</td>\n",
       "      <td>0</td>\n",
       "      <td>Everyone</td>\n",
       "      <td>Art &amp; Design</td>\n",
       "      <td>August 1, 2018</td>\n",
       "      <td>1.2.4</td>\n",
       "      <td>4.0.3 and up</td>\n",
       "    </tr>\n",
       "    <tr>\n",
       "      <th>3</th>\n",
       "      <td>3</td>\n",
       "      <td>Sketch - Draw &amp; Paint</td>\n",
       "      <td>ART_AND_DESIGN</td>\n",
       "      <td>4.5</td>\n",
       "      <td>215644</td>\n",
       "      <td>25M</td>\n",
       "      <td>50,000,000+</td>\n",
       "      <td>Free</td>\n",
       "      <td>0</td>\n",
       "      <td>Teen</td>\n",
       "      <td>Art &amp; Design</td>\n",
       "      <td>June 8, 2018</td>\n",
       "      <td>Varies with device</td>\n",
       "      <td>4.2 and up</td>\n",
       "    </tr>\n",
       "    <tr>\n",
       "      <th>4</th>\n",
       "      <td>4</td>\n",
       "      <td>Pixel Draw - Number Art Coloring Book</td>\n",
       "      <td>ART_AND_DESIGN</td>\n",
       "      <td>4.3</td>\n",
       "      <td>967</td>\n",
       "      <td>2.8M</td>\n",
       "      <td>100,000+</td>\n",
       "      <td>Free</td>\n",
       "      <td>0</td>\n",
       "      <td>Everyone</td>\n",
       "      <td>Art &amp; Design;Creativity</td>\n",
       "      <td>June 20, 2018</td>\n",
       "      <td>1.1</td>\n",
       "      <td>4.4 and up</td>\n",
       "    </tr>\n",
       "    <tr>\n",
       "      <th>...</th>\n",
       "      <td>...</td>\n",
       "      <td>...</td>\n",
       "      <td>...</td>\n",
       "      <td>...</td>\n",
       "      <td>...</td>\n",
       "      <td>...</td>\n",
       "      <td>...</td>\n",
       "      <td>...</td>\n",
       "      <td>...</td>\n",
       "      <td>...</td>\n",
       "      <td>...</td>\n",
       "      <td>...</td>\n",
       "      <td>...</td>\n",
       "      <td>...</td>\n",
       "    </tr>\n",
       "    <tr>\n",
       "      <th>7718</th>\n",
       "      <td>10833</td>\n",
       "      <td>Chemin (fr)</td>\n",
       "      <td>BOOKS_AND_REFERENCE</td>\n",
       "      <td>4.8</td>\n",
       "      <td>44</td>\n",
       "      <td>619k</td>\n",
       "      <td>1,000+</td>\n",
       "      <td>Free</td>\n",
       "      <td>0</td>\n",
       "      <td>Everyone</td>\n",
       "      <td>Books &amp; Reference</td>\n",
       "      <td>March 23, 2014</td>\n",
       "      <td>0.8</td>\n",
       "      <td>2.2 and up</td>\n",
       "    </tr>\n",
       "    <tr>\n",
       "      <th>7719</th>\n",
       "      <td>10834</td>\n",
       "      <td>FR Calculator</td>\n",
       "      <td>FAMILY</td>\n",
       "      <td>4.0</td>\n",
       "      <td>7</td>\n",
       "      <td>2.6M</td>\n",
       "      <td>500+</td>\n",
       "      <td>Free</td>\n",
       "      <td>0</td>\n",
       "      <td>Everyone</td>\n",
       "      <td>Education</td>\n",
       "      <td>June 18, 2017</td>\n",
       "      <td>1.0.0</td>\n",
       "      <td>4.1 and up</td>\n",
       "    </tr>\n",
       "    <tr>\n",
       "      <th>7720</th>\n",
       "      <td>10836</td>\n",
       "      <td>Sya9a Maroc - FR</td>\n",
       "      <td>FAMILY</td>\n",
       "      <td>4.5</td>\n",
       "      <td>38</td>\n",
       "      <td>53M</td>\n",
       "      <td>5,000+</td>\n",
       "      <td>Free</td>\n",
       "      <td>0</td>\n",
       "      <td>Everyone</td>\n",
       "      <td>Education</td>\n",
       "      <td>July 25, 2017</td>\n",
       "      <td>1.48</td>\n",
       "      <td>4.1 and up</td>\n",
       "    </tr>\n",
       "    <tr>\n",
       "      <th>7721</th>\n",
       "      <td>10837</td>\n",
       "      <td>Fr. Mike Schmitz Audio Teachings</td>\n",
       "      <td>FAMILY</td>\n",
       "      <td>5.0</td>\n",
       "      <td>4</td>\n",
       "      <td>3.6M</td>\n",
       "      <td>100+</td>\n",
       "      <td>Free</td>\n",
       "      <td>0</td>\n",
       "      <td>Everyone</td>\n",
       "      <td>Education</td>\n",
       "      <td>July 6, 2018</td>\n",
       "      <td>1.0</td>\n",
       "      <td>4.1 and up</td>\n",
       "    </tr>\n",
       "    <tr>\n",
       "      <th>7722</th>\n",
       "      <td>10840</td>\n",
       "      <td>iHoroscope - 2018 Daily Horoscope &amp; Astrology</td>\n",
       "      <td>LIFESTYLE</td>\n",
       "      <td>4.5</td>\n",
       "      <td>398307</td>\n",
       "      <td>19M</td>\n",
       "      <td>10,000,000+</td>\n",
       "      <td>Free</td>\n",
       "      <td>0</td>\n",
       "      <td>Everyone</td>\n",
       "      <td>Lifestyle</td>\n",
       "      <td>July 25, 2018</td>\n",
       "      <td>Varies with device</td>\n",
       "      <td>Varies with device</td>\n",
       "    </tr>\n",
       "  </tbody>\n",
       "</table>\n",
       "<p>7723 rows × 14 columns</p>\n",
       "</div>"
      ],
      "text/plain": [
       "      index                                                App  \\\n",
       "0         0     Photo Editor & Candy Camera & Grid & ScrapBook   \n",
       "1         1                                Coloring book moana   \n",
       "2         2  U Launcher Lite – FREE Live Cool Themes, Hide ...   \n",
       "3         3                              Sketch - Draw & Paint   \n",
       "4         4              Pixel Draw - Number Art Coloring Book   \n",
       "...     ...                                                ...   \n",
       "7718  10833                                        Chemin (fr)   \n",
       "7719  10834                                      FR Calculator   \n",
       "7720  10836                                   Sya9a Maroc - FR   \n",
       "7721  10837                   Fr. Mike Schmitz Audio Teachings   \n",
       "7722  10840      iHoroscope - 2018 Daily Horoscope & Astrology   \n",
       "\n",
       "                 Category  Rating Reviews  Size     Installs  Type Price  \\\n",
       "0          ART_AND_DESIGN     4.1     159   19M      10,000+  Free     0   \n",
       "1          ART_AND_DESIGN     3.9     967   14M     500,000+  Free     0   \n",
       "2          ART_AND_DESIGN     4.7   87510  8.7M   5,000,000+  Free     0   \n",
       "3          ART_AND_DESIGN     4.5  215644   25M  50,000,000+  Free     0   \n",
       "4          ART_AND_DESIGN     4.3     967  2.8M     100,000+  Free     0   \n",
       "...                   ...     ...     ...   ...          ...   ...   ...   \n",
       "7718  BOOKS_AND_REFERENCE     4.8      44  619k       1,000+  Free     0   \n",
       "7719               FAMILY     4.0       7  2.6M         500+  Free     0   \n",
       "7720               FAMILY     4.5      38   53M       5,000+  Free     0   \n",
       "7721               FAMILY     5.0       4  3.6M         100+  Free     0   \n",
       "7722            LIFESTYLE     4.5  398307   19M  10,000,000+  Free     0   \n",
       "\n",
       "     Content Rating                     Genres      Last Updated  \\\n",
       "0          Everyone               Art & Design   January 7, 2018   \n",
       "1          Everyone  Art & Design;Pretend Play  January 15, 2018   \n",
       "2          Everyone               Art & Design    August 1, 2018   \n",
       "3              Teen               Art & Design      June 8, 2018   \n",
       "4          Everyone    Art & Design;Creativity     June 20, 2018   \n",
       "...             ...                        ...               ...   \n",
       "7718       Everyone          Books & Reference    March 23, 2014   \n",
       "7719       Everyone                  Education     June 18, 2017   \n",
       "7720       Everyone                  Education     July 25, 2017   \n",
       "7721       Everyone                  Education      July 6, 2018   \n",
       "7722       Everyone                  Lifestyle     July 25, 2018   \n",
       "\n",
       "             Current Ver         Android Ver  \n",
       "0                  1.0.0        4.0.3 and up  \n",
       "1                  2.0.0        4.0.3 and up  \n",
       "2                  1.2.4        4.0.3 and up  \n",
       "3     Varies with device          4.2 and up  \n",
       "4                    1.1          4.4 and up  \n",
       "...                  ...                 ...  \n",
       "7718                 0.8          2.2 and up  \n",
       "7719               1.0.0          4.1 and up  \n",
       "7720                1.48          4.1 and up  \n",
       "7721                 1.0          4.1 and up  \n",
       "7722  Varies with device  Varies with device  \n",
       "\n",
       "[7723 rows x 14 columns]"
      ]
     },
     "execution_count": 5,
     "metadata": {},
     "output_type": "execute_result"
    }
   ],
   "source": [
    "data = data[data['Size'].str.contains('Varies with device') == False]\n",
    "data.reset_index()"
   ]
  },
  {
   "cell_type": "code",
   "execution_count": 6,
   "id": "52aaac58",
   "metadata": {},
   "outputs": [
    {
     "name": "stderr",
     "output_type": "stream",
     "text": [
      "C:\\Users\\SIR\\AppData\\Local\\Temp\\ipykernel_14736\\1724201609.py:2: SettingWithCopyWarning: \n",
      "A value is trying to be set on a copy of a slice from a DataFrame.\n",
      "Try using .loc[row_indexer,col_indexer] = value instead\n",
      "\n",
      "See the caveats in the documentation: https://pandas.pydata.org/pandas-docs/stable/user_guide/indexing.html#returning-a-view-versus-a-copy\n",
      "  data_M['Size'] = data_M['Size'].str.extract('(\\d+)')\n",
      "C:\\Users\\SIR\\AppData\\Local\\Temp\\ipykernel_14736\\1724201609.py:3: SettingWithCopyWarning: \n",
      "A value is trying to be set on a copy of a slice from a DataFrame.\n",
      "Try using .loc[row_indexer,col_indexer] = value instead\n",
      "\n",
      "See the caveats in the documentation: https://pandas.pydata.org/pandas-docs/stable/user_guide/indexing.html#returning-a-view-versus-a-copy\n",
      "  data_M['Size'] = 1000*data_M['Size'].astype(int)\n"
     ]
    },
    {
     "data": {
      "text/html": [
       "<div>\n",
       "<style scoped>\n",
       "    .dataframe tbody tr th:only-of-type {\n",
       "        vertical-align: middle;\n",
       "    }\n",
       "\n",
       "    .dataframe tbody tr th {\n",
       "        vertical-align: top;\n",
       "    }\n",
       "\n",
       "    .dataframe thead th {\n",
       "        text-align: right;\n",
       "    }\n",
       "</style>\n",
       "<table border=\"1\" class=\"dataframe\">\n",
       "  <thead>\n",
       "    <tr style=\"text-align: right;\">\n",
       "      <th></th>\n",
       "      <th>App</th>\n",
       "      <th>Category</th>\n",
       "      <th>Rating</th>\n",
       "      <th>Reviews</th>\n",
       "      <th>Size</th>\n",
       "      <th>Installs</th>\n",
       "      <th>Type</th>\n",
       "      <th>Price</th>\n",
       "      <th>Content Rating</th>\n",
       "      <th>Genres</th>\n",
       "      <th>Last Updated</th>\n",
       "      <th>Current Ver</th>\n",
       "      <th>Android Ver</th>\n",
       "    </tr>\n",
       "  </thead>\n",
       "  <tbody>\n",
       "    <tr>\n",
       "      <th>0</th>\n",
       "      <td>Photo Editor &amp; Candy Camera &amp; Grid &amp; ScrapBook</td>\n",
       "      <td>ART_AND_DESIGN</td>\n",
       "      <td>4.1</td>\n",
       "      <td>159</td>\n",
       "      <td>19000</td>\n",
       "      <td>10,000+</td>\n",
       "      <td>Free</td>\n",
       "      <td>0</td>\n",
       "      <td>Everyone</td>\n",
       "      <td>Art &amp; Design</td>\n",
       "      <td>January 7, 2018</td>\n",
       "      <td>1.0.0</td>\n",
       "      <td>4.0.3 and up</td>\n",
       "    </tr>\n",
       "    <tr>\n",
       "      <th>1</th>\n",
       "      <td>Coloring book moana</td>\n",
       "      <td>ART_AND_DESIGN</td>\n",
       "      <td>3.9</td>\n",
       "      <td>967</td>\n",
       "      <td>14000</td>\n",
       "      <td>500,000+</td>\n",
       "      <td>Free</td>\n",
       "      <td>0</td>\n",
       "      <td>Everyone</td>\n",
       "      <td>Art &amp; Design;Pretend Play</td>\n",
       "      <td>January 15, 2018</td>\n",
       "      <td>2.0.0</td>\n",
       "      <td>4.0.3 and up</td>\n",
       "    </tr>\n",
       "    <tr>\n",
       "      <th>2</th>\n",
       "      <td>U Launcher Lite – FREE Live Cool Themes, Hide ...</td>\n",
       "      <td>ART_AND_DESIGN</td>\n",
       "      <td>4.7</td>\n",
       "      <td>87510</td>\n",
       "      <td>8000</td>\n",
       "      <td>5,000,000+</td>\n",
       "      <td>Free</td>\n",
       "      <td>0</td>\n",
       "      <td>Everyone</td>\n",
       "      <td>Art &amp; Design</td>\n",
       "      <td>August 1, 2018</td>\n",
       "      <td>1.2.4</td>\n",
       "      <td>4.0.3 and up</td>\n",
       "    </tr>\n",
       "    <tr>\n",
       "      <th>3</th>\n",
       "      <td>Sketch - Draw &amp; Paint</td>\n",
       "      <td>ART_AND_DESIGN</td>\n",
       "      <td>4.5</td>\n",
       "      <td>215644</td>\n",
       "      <td>25000</td>\n",
       "      <td>50,000,000+</td>\n",
       "      <td>Free</td>\n",
       "      <td>0</td>\n",
       "      <td>Teen</td>\n",
       "      <td>Art &amp; Design</td>\n",
       "      <td>June 8, 2018</td>\n",
       "      <td>Varies with device</td>\n",
       "      <td>4.2 and up</td>\n",
       "    </tr>\n",
       "    <tr>\n",
       "      <th>4</th>\n",
       "      <td>Pixel Draw - Number Art Coloring Book</td>\n",
       "      <td>ART_AND_DESIGN</td>\n",
       "      <td>4.3</td>\n",
       "      <td>967</td>\n",
       "      <td>2000</td>\n",
       "      <td>100,000+</td>\n",
       "      <td>Free</td>\n",
       "      <td>0</td>\n",
       "      <td>Everyone</td>\n",
       "      <td>Art &amp; Design;Creativity</td>\n",
       "      <td>June 20, 2018</td>\n",
       "      <td>1.1</td>\n",
       "      <td>4.4 and up</td>\n",
       "    </tr>\n",
       "    <tr>\n",
       "      <th>...</th>\n",
       "      <td>...</td>\n",
       "      <td>...</td>\n",
       "      <td>...</td>\n",
       "      <td>...</td>\n",
       "      <td>...</td>\n",
       "      <td>...</td>\n",
       "      <td>...</td>\n",
       "      <td>...</td>\n",
       "      <td>...</td>\n",
       "      <td>...</td>\n",
       "      <td>...</td>\n",
       "      <td>...</td>\n",
       "      <td>...</td>\n",
       "    </tr>\n",
       "    <tr>\n",
       "      <th>10830</th>\n",
       "      <td>News Minecraft.fr</td>\n",
       "      <td>NEWS_AND_MAGAZINES</td>\n",
       "      <td>3.8</td>\n",
       "      <td>881</td>\n",
       "      <td>2000</td>\n",
       "      <td>100,000+</td>\n",
       "      <td>Free</td>\n",
       "      <td>0</td>\n",
       "      <td>Everyone</td>\n",
       "      <td>News &amp; Magazines</td>\n",
       "      <td>January 20, 2014</td>\n",
       "      <td>1.5</td>\n",
       "      <td>1.6 and up</td>\n",
       "    </tr>\n",
       "    <tr>\n",
       "      <th>10834</th>\n",
       "      <td>FR Calculator</td>\n",
       "      <td>FAMILY</td>\n",
       "      <td>4.0</td>\n",
       "      <td>7</td>\n",
       "      <td>2000</td>\n",
       "      <td>500+</td>\n",
       "      <td>Free</td>\n",
       "      <td>0</td>\n",
       "      <td>Everyone</td>\n",
       "      <td>Education</td>\n",
       "      <td>June 18, 2017</td>\n",
       "      <td>1.0.0</td>\n",
       "      <td>4.1 and up</td>\n",
       "    </tr>\n",
       "    <tr>\n",
       "      <th>10836</th>\n",
       "      <td>Sya9a Maroc - FR</td>\n",
       "      <td>FAMILY</td>\n",
       "      <td>4.5</td>\n",
       "      <td>38</td>\n",
       "      <td>53000</td>\n",
       "      <td>5,000+</td>\n",
       "      <td>Free</td>\n",
       "      <td>0</td>\n",
       "      <td>Everyone</td>\n",
       "      <td>Education</td>\n",
       "      <td>July 25, 2017</td>\n",
       "      <td>1.48</td>\n",
       "      <td>4.1 and up</td>\n",
       "    </tr>\n",
       "    <tr>\n",
       "      <th>10837</th>\n",
       "      <td>Fr. Mike Schmitz Audio Teachings</td>\n",
       "      <td>FAMILY</td>\n",
       "      <td>5.0</td>\n",
       "      <td>4</td>\n",
       "      <td>3000</td>\n",
       "      <td>100+</td>\n",
       "      <td>Free</td>\n",
       "      <td>0</td>\n",
       "      <td>Everyone</td>\n",
       "      <td>Education</td>\n",
       "      <td>July 6, 2018</td>\n",
       "      <td>1.0</td>\n",
       "      <td>4.1 and up</td>\n",
       "    </tr>\n",
       "    <tr>\n",
       "      <th>10840</th>\n",
       "      <td>iHoroscope - 2018 Daily Horoscope &amp; Astrology</td>\n",
       "      <td>LIFESTYLE</td>\n",
       "      <td>4.5</td>\n",
       "      <td>398307</td>\n",
       "      <td>19000</td>\n",
       "      <td>10,000,000+</td>\n",
       "      <td>Free</td>\n",
       "      <td>0</td>\n",
       "      <td>Everyone</td>\n",
       "      <td>Lifestyle</td>\n",
       "      <td>July 25, 2018</td>\n",
       "      <td>Varies with device</td>\n",
       "      <td>Varies with device</td>\n",
       "    </tr>\n",
       "  </tbody>\n",
       "</table>\n",
       "<p>7466 rows × 13 columns</p>\n",
       "</div>"
      ],
      "text/plain": [
       "                                                     App            Category  \\\n",
       "0         Photo Editor & Candy Camera & Grid & ScrapBook      ART_AND_DESIGN   \n",
       "1                                    Coloring book moana      ART_AND_DESIGN   \n",
       "2      U Launcher Lite – FREE Live Cool Themes, Hide ...      ART_AND_DESIGN   \n",
       "3                                  Sketch - Draw & Paint      ART_AND_DESIGN   \n",
       "4                  Pixel Draw - Number Art Coloring Book      ART_AND_DESIGN   \n",
       "...                                                  ...                 ...   \n",
       "10830                                  News Minecraft.fr  NEWS_AND_MAGAZINES   \n",
       "10834                                      FR Calculator              FAMILY   \n",
       "10836                                   Sya9a Maroc - FR              FAMILY   \n",
       "10837                   Fr. Mike Schmitz Audio Teachings              FAMILY   \n",
       "10840      iHoroscope - 2018 Daily Horoscope & Astrology           LIFESTYLE   \n",
       "\n",
       "       Rating Reviews   Size     Installs  Type Price Content Rating  \\\n",
       "0         4.1     159  19000      10,000+  Free     0       Everyone   \n",
       "1         3.9     967  14000     500,000+  Free     0       Everyone   \n",
       "2         4.7   87510   8000   5,000,000+  Free     0       Everyone   \n",
       "3         4.5  215644  25000  50,000,000+  Free     0           Teen   \n",
       "4         4.3     967   2000     100,000+  Free     0       Everyone   \n",
       "...       ...     ...    ...          ...   ...   ...            ...   \n",
       "10830     3.8     881   2000     100,000+  Free     0       Everyone   \n",
       "10834     4.0       7   2000         500+  Free     0       Everyone   \n",
       "10836     4.5      38  53000       5,000+  Free     0       Everyone   \n",
       "10837     5.0       4   3000         100+  Free     0       Everyone   \n",
       "10840     4.5  398307  19000  10,000,000+  Free     0       Everyone   \n",
       "\n",
       "                          Genres      Last Updated         Current Ver  \\\n",
       "0                   Art & Design   January 7, 2018               1.0.0   \n",
       "1      Art & Design;Pretend Play  January 15, 2018               2.0.0   \n",
       "2                   Art & Design    August 1, 2018               1.2.4   \n",
       "3                   Art & Design      June 8, 2018  Varies with device   \n",
       "4        Art & Design;Creativity     June 20, 2018                 1.1   \n",
       "...                          ...               ...                 ...   \n",
       "10830           News & Magazines  January 20, 2014                 1.5   \n",
       "10834                  Education     June 18, 2017               1.0.0   \n",
       "10836                  Education     July 25, 2017                1.48   \n",
       "10837                  Education      July 6, 2018                 1.0   \n",
       "10840                  Lifestyle     July 25, 2018  Varies with device   \n",
       "\n",
       "              Android Ver  \n",
       "0            4.0.3 and up  \n",
       "1            4.0.3 and up  \n",
       "2            4.0.3 and up  \n",
       "3              4.2 and up  \n",
       "4              4.4 and up  \n",
       "...                   ...  \n",
       "10830          1.6 and up  \n",
       "10834          4.1 and up  \n",
       "10836          4.1 and up  \n",
       "10837          4.1 and up  \n",
       "10840  Varies with device  \n",
       "\n",
       "[7466 rows x 13 columns]"
      ]
     },
     "execution_count": 6,
     "metadata": {},
     "output_type": "execute_result"
    }
   ],
   "source": [
    "data_M = data[data['Size'].str.contains('M')]\n",
    "data_M['Size'] = data_M['Size'].str.extract('(\\d+)')\n",
    "data_M['Size'] = 1000*data_M['Size'].astype(int)\n",
    "data_M"
   ]
  },
  {
   "cell_type": "code",
   "execution_count": 7,
   "id": "d7e71899",
   "metadata": {},
   "outputs": [
    {
     "name": "stderr",
     "output_type": "stream",
     "text": [
      "C:\\Users\\SIR\\AppData\\Local\\Temp\\ipykernel_14736\\746997127.py:2: SettingWithCopyWarning: \n",
      "A value is trying to be set on a copy of a slice from a DataFrame.\n",
      "Try using .loc[row_indexer,col_indexer] = value instead\n",
      "\n",
      "See the caveats in the documentation: https://pandas.pydata.org/pandas-docs/stable/user_guide/indexing.html#returning-a-view-versus-a-copy\n",
      "  data_K['Size'] = data_K['Size'].str.extract('(\\d+)')\n",
      "C:\\Users\\SIR\\AppData\\Local\\Temp\\ipykernel_14736\\746997127.py:3: SettingWithCopyWarning: \n",
      "A value is trying to be set on a copy of a slice from a DataFrame.\n",
      "Try using .loc[row_indexer,col_indexer] = value instead\n",
      "\n",
      "See the caveats in the documentation: https://pandas.pydata.org/pandas-docs/stable/user_guide/indexing.html#returning-a-view-versus-a-copy\n",
      "  data_K['Size'] = data_K['Size'].astype(int)\n"
     ]
    },
    {
     "data": {
      "text/html": [
       "<div>\n",
       "<style scoped>\n",
       "    .dataframe tbody tr th:only-of-type {\n",
       "        vertical-align: middle;\n",
       "    }\n",
       "\n",
       "    .dataframe tbody tr th {\n",
       "        vertical-align: top;\n",
       "    }\n",
       "\n",
       "    .dataframe thead th {\n",
       "        text-align: right;\n",
       "    }\n",
       "</style>\n",
       "<table border=\"1\" class=\"dataframe\">\n",
       "  <thead>\n",
       "    <tr style=\"text-align: right;\">\n",
       "      <th></th>\n",
       "      <th>App</th>\n",
       "      <th>Category</th>\n",
       "      <th>Rating</th>\n",
       "      <th>Reviews</th>\n",
       "      <th>Size</th>\n",
       "      <th>Installs</th>\n",
       "      <th>Type</th>\n",
       "      <th>Price</th>\n",
       "      <th>Content Rating</th>\n",
       "      <th>Genres</th>\n",
       "      <th>Last Updated</th>\n",
       "      <th>Current Ver</th>\n",
       "      <th>Android Ver</th>\n",
       "    </tr>\n",
       "  </thead>\n",
       "  <tbody>\n",
       "    <tr>\n",
       "      <th>58</th>\n",
       "      <td>Restart Navigator</td>\n",
       "      <td>AUTO_AND_VEHICLES</td>\n",
       "      <td>4.0</td>\n",
       "      <td>1403</td>\n",
       "      <td>201</td>\n",
       "      <td>100,000+</td>\n",
       "      <td>Free</td>\n",
       "      <td>0</td>\n",
       "      <td>Everyone</td>\n",
       "      <td>Auto &amp; Vehicles</td>\n",
       "      <td>August 26, 2014</td>\n",
       "      <td>1.0.1</td>\n",
       "      <td>2.2 and up</td>\n",
       "    </tr>\n",
       "    <tr>\n",
       "      <th>209</th>\n",
       "      <td>Plugin:AOT v5.0</td>\n",
       "      <td>BUSINESS</td>\n",
       "      <td>3.1</td>\n",
       "      <td>4034</td>\n",
       "      <td>23</td>\n",
       "      <td>100,000+</td>\n",
       "      <td>Free</td>\n",
       "      <td>0</td>\n",
       "      <td>Everyone</td>\n",
       "      <td>Business</td>\n",
       "      <td>September 11, 2015</td>\n",
       "      <td>3.0.1.11 (Build 311)</td>\n",
       "      <td>2.2 and up</td>\n",
       "    </tr>\n",
       "    <tr>\n",
       "      <th>384</th>\n",
       "      <td>Hangouts Dialer - Call Phones</td>\n",
       "      <td>COMMUNICATION</td>\n",
       "      <td>4.0</td>\n",
       "      <td>122498</td>\n",
       "      <td>79</td>\n",
       "      <td>10,000,000+</td>\n",
       "      <td>Free</td>\n",
       "      <td>0</td>\n",
       "      <td>Everyone</td>\n",
       "      <td>Communication</td>\n",
       "      <td>September 2, 2015</td>\n",
       "      <td>0.1.100944346</td>\n",
       "      <td>4.0.3 and up</td>\n",
       "    </tr>\n",
       "    <tr>\n",
       "      <th>450</th>\n",
       "      <td>Caller ID +</td>\n",
       "      <td>COMMUNICATION</td>\n",
       "      <td>4.0</td>\n",
       "      <td>9498</td>\n",
       "      <td>118</td>\n",
       "      <td>1,000,000+</td>\n",
       "      <td>Free</td>\n",
       "      <td>0</td>\n",
       "      <td>Everyone</td>\n",
       "      <td>Communication</td>\n",
       "      <td>June 7, 2016</td>\n",
       "      <td>5.28.0</td>\n",
       "      <td>2.3 and up</td>\n",
       "    </tr>\n",
       "    <tr>\n",
       "      <th>458</th>\n",
       "      <td>GO Notifier</td>\n",
       "      <td>COMMUNICATION</td>\n",
       "      <td>4.2</td>\n",
       "      <td>124346</td>\n",
       "      <td>695</td>\n",
       "      <td>10,000,000+</td>\n",
       "      <td>Free</td>\n",
       "      <td>0</td>\n",
       "      <td>Everyone</td>\n",
       "      <td>Communication</td>\n",
       "      <td>July 6, 2014</td>\n",
       "      <td>2.8</td>\n",
       "      <td>2.0 and up</td>\n",
       "    </tr>\n",
       "    <tr>\n",
       "      <th>...</th>\n",
       "      <td>...</td>\n",
       "      <td>...</td>\n",
       "      <td>...</td>\n",
       "      <td>...</td>\n",
       "      <td>...</td>\n",
       "      <td>...</td>\n",
       "      <td>...</td>\n",
       "      <td>...</td>\n",
       "      <td>...</td>\n",
       "      <td>...</td>\n",
       "      <td>...</td>\n",
       "      <td>...</td>\n",
       "      <td>...</td>\n",
       "    </tr>\n",
       "    <tr>\n",
       "      <th>10732</th>\n",
       "      <td>Draw with FP sDraw</td>\n",
       "      <td>TOOLS</td>\n",
       "      <td>4.3</td>\n",
       "      <td>3268</td>\n",
       "      <td>467</td>\n",
       "      <td>100,000+</td>\n",
       "      <td>Free</td>\n",
       "      <td>0</td>\n",
       "      <td>Everyone</td>\n",
       "      <td>Tools</td>\n",
       "      <td>December 16, 2017</td>\n",
       "      <td>6.6</td>\n",
       "      <td>2.0 and up</td>\n",
       "    </tr>\n",
       "    <tr>\n",
       "      <th>10755</th>\n",
       "      <td>Hondata Mobile</td>\n",
       "      <td>MAPS_AND_NAVIGATION</td>\n",
       "      <td>4.3</td>\n",
       "      <td>334</td>\n",
       "      <td>676</td>\n",
       "      <td>10,000+</td>\n",
       "      <td>Free</td>\n",
       "      <td>0</td>\n",
       "      <td>Everyone</td>\n",
       "      <td>Maps &amp; Navigation</td>\n",
       "      <td>August 23, 2016</td>\n",
       "      <td>1.3</td>\n",
       "      <td>2.3.3 and up</td>\n",
       "    </tr>\n",
       "    <tr>\n",
       "      <th>10763</th>\n",
       "      <td>FP Разбитый дисплей</td>\n",
       "      <td>FAMILY</td>\n",
       "      <td>4.5</td>\n",
       "      <td>922</td>\n",
       "      <td>552</td>\n",
       "      <td>50,000+</td>\n",
       "      <td>Free</td>\n",
       "      <td>0</td>\n",
       "      <td>Everyone</td>\n",
       "      <td>Entertainment</td>\n",
       "      <td>September 20, 2014</td>\n",
       "      <td>1.1</td>\n",
       "      <td>1.6 and up</td>\n",
       "    </tr>\n",
       "    <tr>\n",
       "      <th>10832</th>\n",
       "      <td>FR Tides</td>\n",
       "      <td>WEATHER</td>\n",
       "      <td>3.8</td>\n",
       "      <td>1195</td>\n",
       "      <td>582</td>\n",
       "      <td>100,000+</td>\n",
       "      <td>Free</td>\n",
       "      <td>0</td>\n",
       "      <td>Everyone</td>\n",
       "      <td>Weather</td>\n",
       "      <td>February 16, 2014</td>\n",
       "      <td>6.0</td>\n",
       "      <td>2.1 and up</td>\n",
       "    </tr>\n",
       "    <tr>\n",
       "      <th>10833</th>\n",
       "      <td>Chemin (fr)</td>\n",
       "      <td>BOOKS_AND_REFERENCE</td>\n",
       "      <td>4.8</td>\n",
       "      <td>44</td>\n",
       "      <td>619</td>\n",
       "      <td>1,000+</td>\n",
       "      <td>Free</td>\n",
       "      <td>0</td>\n",
       "      <td>Everyone</td>\n",
       "      <td>Books &amp; Reference</td>\n",
       "      <td>March 23, 2014</td>\n",
       "      <td>0.8</td>\n",
       "      <td>2.2 and up</td>\n",
       "    </tr>\n",
       "  </tbody>\n",
       "</table>\n",
       "<p>257 rows × 13 columns</p>\n",
       "</div>"
      ],
      "text/plain": [
       "                                 App             Category  Rating Reviews  \\\n",
       "58                 Restart Navigator    AUTO_AND_VEHICLES     4.0    1403   \n",
       "209                  Plugin:AOT v5.0             BUSINESS     3.1    4034   \n",
       "384    Hangouts Dialer - Call Phones        COMMUNICATION     4.0  122498   \n",
       "450                      Caller ID +        COMMUNICATION     4.0    9498   \n",
       "458                      GO Notifier        COMMUNICATION     4.2  124346   \n",
       "...                              ...                  ...     ...     ...   \n",
       "10732             Draw with FP sDraw                TOOLS     4.3    3268   \n",
       "10755                 Hondata Mobile  MAPS_AND_NAVIGATION     4.3     334   \n",
       "10763            FP Разбитый дисплей               FAMILY     4.5     922   \n",
       "10832                       FR Tides              WEATHER     3.8    1195   \n",
       "10833                    Chemin (fr)  BOOKS_AND_REFERENCE     4.8      44   \n",
       "\n",
       "       Size     Installs  Type Price Content Rating             Genres  \\\n",
       "58      201     100,000+  Free     0       Everyone    Auto & Vehicles   \n",
       "209      23     100,000+  Free     0       Everyone           Business   \n",
       "384      79  10,000,000+  Free     0       Everyone      Communication   \n",
       "450     118   1,000,000+  Free     0       Everyone      Communication   \n",
       "458     695  10,000,000+  Free     0       Everyone      Communication   \n",
       "...     ...          ...   ...   ...            ...                ...   \n",
       "10732   467     100,000+  Free     0       Everyone              Tools   \n",
       "10755   676      10,000+  Free     0       Everyone  Maps & Navigation   \n",
       "10763   552      50,000+  Free     0       Everyone      Entertainment   \n",
       "10832   582     100,000+  Free     0       Everyone            Weather   \n",
       "10833   619       1,000+  Free     0       Everyone  Books & Reference   \n",
       "\n",
       "             Last Updated           Current Ver   Android Ver  \n",
       "58        August 26, 2014                 1.0.1    2.2 and up  \n",
       "209    September 11, 2015  3.0.1.11 (Build 311)    2.2 and up  \n",
       "384     September 2, 2015         0.1.100944346  4.0.3 and up  \n",
       "450          June 7, 2016                5.28.0    2.3 and up  \n",
       "458          July 6, 2014                   2.8    2.0 and up  \n",
       "...                   ...                   ...           ...  \n",
       "10732   December 16, 2017                   6.6    2.0 and up  \n",
       "10755     August 23, 2016                   1.3  2.3.3 and up  \n",
       "10763  September 20, 2014                   1.1    1.6 and up  \n",
       "10832   February 16, 2014                   6.0    2.1 and up  \n",
       "10833      March 23, 2014                   0.8    2.2 and up  \n",
       "\n",
       "[257 rows x 13 columns]"
      ]
     },
     "execution_count": 7,
     "metadata": {},
     "output_type": "execute_result"
    }
   ],
   "source": [
    "data_K = data[data['Size'].str.contains('k')]\n",
    "data_K['Size'] = data_K['Size'].str.extract('(\\d+)')\n",
    "data_K['Size'] = data_K['Size'].astype(int)\n",
    "data_K"
   ]
  },
  {
   "cell_type": "code",
   "execution_count": 8,
   "id": "1959a8e8",
   "metadata": {},
   "outputs": [
    {
     "data": {
      "text/html": [
       "<div>\n",
       "<style scoped>\n",
       "    .dataframe tbody tr th:only-of-type {\n",
       "        vertical-align: middle;\n",
       "    }\n",
       "\n",
       "    .dataframe tbody tr th {\n",
       "        vertical-align: top;\n",
       "    }\n",
       "\n",
       "    .dataframe thead th {\n",
       "        text-align: right;\n",
       "    }\n",
       "</style>\n",
       "<table border=\"1\" class=\"dataframe\">\n",
       "  <thead>\n",
       "    <tr style=\"text-align: right;\">\n",
       "      <th></th>\n",
       "      <th>App</th>\n",
       "      <th>Category</th>\n",
       "      <th>Rating</th>\n",
       "      <th>Reviews</th>\n",
       "      <th>Size</th>\n",
       "      <th>Installs</th>\n",
       "      <th>Type</th>\n",
       "      <th>Price</th>\n",
       "      <th>Content Rating</th>\n",
       "      <th>Genres</th>\n",
       "      <th>Last Updated</th>\n",
       "      <th>Current Ver</th>\n",
       "      <th>Android Ver</th>\n",
       "    </tr>\n",
       "  </thead>\n",
       "  <tbody>\n",
       "    <tr>\n",
       "      <th>0</th>\n",
       "      <td>Photo Editor &amp; Candy Camera &amp; Grid &amp; ScrapBook</td>\n",
       "      <td>ART_AND_DESIGN</td>\n",
       "      <td>4.1</td>\n",
       "      <td>159</td>\n",
       "      <td>19000</td>\n",
       "      <td>10,000+</td>\n",
       "      <td>Free</td>\n",
       "      <td>0</td>\n",
       "      <td>Everyone</td>\n",
       "      <td>Art &amp; Design</td>\n",
       "      <td>January 7, 2018</td>\n",
       "      <td>1.0.0</td>\n",
       "      <td>4.0.3 and up</td>\n",
       "    </tr>\n",
       "    <tr>\n",
       "      <th>1</th>\n",
       "      <td>Coloring book moana</td>\n",
       "      <td>ART_AND_DESIGN</td>\n",
       "      <td>3.9</td>\n",
       "      <td>967</td>\n",
       "      <td>14000</td>\n",
       "      <td>500,000+</td>\n",
       "      <td>Free</td>\n",
       "      <td>0</td>\n",
       "      <td>Everyone</td>\n",
       "      <td>Art &amp; Design;Pretend Play</td>\n",
       "      <td>January 15, 2018</td>\n",
       "      <td>2.0.0</td>\n",
       "      <td>4.0.3 and up</td>\n",
       "    </tr>\n",
       "    <tr>\n",
       "      <th>2</th>\n",
       "      <td>U Launcher Lite – FREE Live Cool Themes, Hide ...</td>\n",
       "      <td>ART_AND_DESIGN</td>\n",
       "      <td>4.7</td>\n",
       "      <td>87510</td>\n",
       "      <td>8000</td>\n",
       "      <td>5,000,000+</td>\n",
       "      <td>Free</td>\n",
       "      <td>0</td>\n",
       "      <td>Everyone</td>\n",
       "      <td>Art &amp; Design</td>\n",
       "      <td>August 1, 2018</td>\n",
       "      <td>1.2.4</td>\n",
       "      <td>4.0.3 and up</td>\n",
       "    </tr>\n",
       "    <tr>\n",
       "      <th>3</th>\n",
       "      <td>Sketch - Draw &amp; Paint</td>\n",
       "      <td>ART_AND_DESIGN</td>\n",
       "      <td>4.5</td>\n",
       "      <td>215644</td>\n",
       "      <td>25000</td>\n",
       "      <td>50,000,000+</td>\n",
       "      <td>Free</td>\n",
       "      <td>0</td>\n",
       "      <td>Teen</td>\n",
       "      <td>Art &amp; Design</td>\n",
       "      <td>June 8, 2018</td>\n",
       "      <td>Varies with device</td>\n",
       "      <td>4.2 and up</td>\n",
       "    </tr>\n",
       "    <tr>\n",
       "      <th>4</th>\n",
       "      <td>Pixel Draw - Number Art Coloring Book</td>\n",
       "      <td>ART_AND_DESIGN</td>\n",
       "      <td>4.3</td>\n",
       "      <td>967</td>\n",
       "      <td>2000</td>\n",
       "      <td>100,000+</td>\n",
       "      <td>Free</td>\n",
       "      <td>0</td>\n",
       "      <td>Everyone</td>\n",
       "      <td>Art &amp; Design;Creativity</td>\n",
       "      <td>June 20, 2018</td>\n",
       "      <td>1.1</td>\n",
       "      <td>4.4 and up</td>\n",
       "    </tr>\n",
       "  </tbody>\n",
       "</table>\n",
       "</div>"
      ],
      "text/plain": [
       "                                                 App        Category  Rating  \\\n",
       "0     Photo Editor & Candy Camera & Grid & ScrapBook  ART_AND_DESIGN     4.1   \n",
       "1                                Coloring book moana  ART_AND_DESIGN     3.9   \n",
       "2  U Launcher Lite – FREE Live Cool Themes, Hide ...  ART_AND_DESIGN     4.7   \n",
       "3                              Sketch - Draw & Paint  ART_AND_DESIGN     4.5   \n",
       "4              Pixel Draw - Number Art Coloring Book  ART_AND_DESIGN     4.3   \n",
       "\n",
       "  Reviews   Size     Installs  Type Price Content Rating  \\\n",
       "0     159  19000      10,000+  Free     0       Everyone   \n",
       "1     967  14000     500,000+  Free     0       Everyone   \n",
       "2   87510   8000   5,000,000+  Free     0       Everyone   \n",
       "3  215644  25000  50,000,000+  Free     0           Teen   \n",
       "4     967   2000     100,000+  Free     0       Everyone   \n",
       "\n",
       "                      Genres      Last Updated         Current Ver  \\\n",
       "0               Art & Design   January 7, 2018               1.0.0   \n",
       "1  Art & Design;Pretend Play  January 15, 2018               2.0.0   \n",
       "2               Art & Design    August 1, 2018               1.2.4   \n",
       "3               Art & Design      June 8, 2018  Varies with device   \n",
       "4    Art & Design;Creativity     June 20, 2018                 1.1   \n",
       "\n",
       "    Android Ver  \n",
       "0  4.0.3 and up  \n",
       "1  4.0.3 and up  \n",
       "2  4.0.3 and up  \n",
       "3    4.2 and up  \n",
       "4    4.4 and up  "
      ]
     },
     "execution_count": 8,
     "metadata": {},
     "output_type": "execute_result"
    }
   ],
   "source": [
    "new_data = pd.concat([data_M,data_K])\n",
    "new_data.head()"
   ]
  },
  {
   "cell_type": "code",
   "execution_count": 9,
   "id": "89ef0f39",
   "metadata": {},
   "outputs": [],
   "source": [
    "new_data['Reviews'] = new_data['Reviews'].astype(int)"
   ]
  },
  {
   "cell_type": "code",
   "execution_count": 10,
   "id": "11a2e8c8",
   "metadata": {},
   "outputs": [],
   "source": [
    "new_data['Installs'] = new_data['Installs'].map(lambda x: str(x).replace('+','')) \n",
    "new_data['Installs'] = new_data['Installs'].map(lambda x: str(x).replace(',','')) \n",
    "new_data['Installs'] = new_data['Installs'].astype(int)"
   ]
  },
  {
   "cell_type": "code",
   "execution_count": 11,
   "id": "9b72e7e5",
   "metadata": {},
   "outputs": [],
   "source": [
    "new_data['Price'] = new_data['Price'].map(lambda x: str(x).replace('$','')) \n",
    "new_data['Price'] = new_data['Price'].astype(float)"
   ]
  },
  {
   "cell_type": "markdown",
   "id": "512447b9",
   "metadata": {},
   "source": [
    "## 5. Sanity checks:"
   ]
  },
  {
   "cell_type": "code",
   "execution_count": 12,
   "id": "c914fee0",
   "metadata": {},
   "outputs": [],
   "source": [
    "new_data = new_data[(new_data['Rating'] > 1) & (new_data['Rating'] < 5)]"
   ]
  },
  {
   "cell_type": "code",
   "execution_count": 13,
   "id": "7edfedb0",
   "metadata": {},
   "outputs": [],
   "source": [
    "new_data = new_data[(new_data['Installs']) > (new_data['Reviews'])]"
   ]
  },
  {
   "cell_type": "code",
   "execution_count": 14,
   "id": "e10e2d1a",
   "metadata": {},
   "outputs": [
    {
     "data": {
      "text/html": [
       "<div>\n",
       "<style scoped>\n",
       "    .dataframe tbody tr th:only-of-type {\n",
       "        vertical-align: middle;\n",
       "    }\n",
       "\n",
       "    .dataframe tbody tr th {\n",
       "        vertical-align: top;\n",
       "    }\n",
       "\n",
       "    .dataframe thead th {\n",
       "        text-align: right;\n",
       "    }\n",
       "</style>\n",
       "<table border=\"1\" class=\"dataframe\">\n",
       "  <thead>\n",
       "    <tr style=\"text-align: right;\">\n",
       "      <th></th>\n",
       "      <th>App</th>\n",
       "      <th>Category</th>\n",
       "      <th>Rating</th>\n",
       "      <th>Reviews</th>\n",
       "      <th>Size</th>\n",
       "      <th>Installs</th>\n",
       "      <th>Type</th>\n",
       "      <th>Price</th>\n",
       "      <th>Content Rating</th>\n",
       "      <th>Genres</th>\n",
       "      <th>Last Updated</th>\n",
       "      <th>Current Ver</th>\n",
       "      <th>Android Ver</th>\n",
       "    </tr>\n",
       "  </thead>\n",
       "  <tbody>\n",
       "    <tr>\n",
       "      <th>0</th>\n",
       "      <td>Photo Editor &amp; Candy Camera &amp; Grid &amp; ScrapBook</td>\n",
       "      <td>ART_AND_DESIGN</td>\n",
       "      <td>4.1</td>\n",
       "      <td>159</td>\n",
       "      <td>19000</td>\n",
       "      <td>10000</td>\n",
       "      <td>Free</td>\n",
       "      <td>0.0</td>\n",
       "      <td>Everyone</td>\n",
       "      <td>Art &amp; Design</td>\n",
       "      <td>January 7, 2018</td>\n",
       "      <td>1.0.0</td>\n",
       "      <td>4.0.3 and up</td>\n",
       "    </tr>\n",
       "    <tr>\n",
       "      <th>1</th>\n",
       "      <td>Coloring book moana</td>\n",
       "      <td>ART_AND_DESIGN</td>\n",
       "      <td>3.9</td>\n",
       "      <td>967</td>\n",
       "      <td>14000</td>\n",
       "      <td>500000</td>\n",
       "      <td>Free</td>\n",
       "      <td>0.0</td>\n",
       "      <td>Everyone</td>\n",
       "      <td>Art &amp; Design;Pretend Play</td>\n",
       "      <td>January 15, 2018</td>\n",
       "      <td>2.0.0</td>\n",
       "      <td>4.0.3 and up</td>\n",
       "    </tr>\n",
       "    <tr>\n",
       "      <th>2</th>\n",
       "      <td>U Launcher Lite – FREE Live Cool Themes, Hide ...</td>\n",
       "      <td>ART_AND_DESIGN</td>\n",
       "      <td>4.7</td>\n",
       "      <td>87510</td>\n",
       "      <td>8000</td>\n",
       "      <td>5000000</td>\n",
       "      <td>Free</td>\n",
       "      <td>0.0</td>\n",
       "      <td>Everyone</td>\n",
       "      <td>Art &amp; Design</td>\n",
       "      <td>August 1, 2018</td>\n",
       "      <td>1.2.4</td>\n",
       "      <td>4.0.3 and up</td>\n",
       "    </tr>\n",
       "    <tr>\n",
       "      <th>3</th>\n",
       "      <td>Sketch - Draw &amp; Paint</td>\n",
       "      <td>ART_AND_DESIGN</td>\n",
       "      <td>4.5</td>\n",
       "      <td>215644</td>\n",
       "      <td>25000</td>\n",
       "      <td>50000000</td>\n",
       "      <td>Free</td>\n",
       "      <td>0.0</td>\n",
       "      <td>Teen</td>\n",
       "      <td>Art &amp; Design</td>\n",
       "      <td>June 8, 2018</td>\n",
       "      <td>Varies with device</td>\n",
       "      <td>4.2 and up</td>\n",
       "    </tr>\n",
       "    <tr>\n",
       "      <th>4</th>\n",
       "      <td>Pixel Draw - Number Art Coloring Book</td>\n",
       "      <td>ART_AND_DESIGN</td>\n",
       "      <td>4.3</td>\n",
       "      <td>967</td>\n",
       "      <td>2000</td>\n",
       "      <td>100000</td>\n",
       "      <td>Free</td>\n",
       "      <td>0.0</td>\n",
       "      <td>Everyone</td>\n",
       "      <td>Art &amp; Design;Creativity</td>\n",
       "      <td>June 20, 2018</td>\n",
       "      <td>1.1</td>\n",
       "      <td>4.4 and up</td>\n",
       "    </tr>\n",
       "  </tbody>\n",
       "</table>\n",
       "</div>"
      ],
      "text/plain": [
       "                                                 App        Category  Rating  \\\n",
       "0     Photo Editor & Candy Camera & Grid & ScrapBook  ART_AND_DESIGN     4.1   \n",
       "1                                Coloring book moana  ART_AND_DESIGN     3.9   \n",
       "2  U Launcher Lite – FREE Live Cool Themes, Hide ...  ART_AND_DESIGN     4.7   \n",
       "3                              Sketch - Draw & Paint  ART_AND_DESIGN     4.5   \n",
       "4              Pixel Draw - Number Art Coloring Book  ART_AND_DESIGN     4.3   \n",
       "\n",
       "   Reviews   Size  Installs  Type  Price Content Rating  \\\n",
       "0      159  19000     10000  Free    0.0       Everyone   \n",
       "1      967  14000    500000  Free    0.0       Everyone   \n",
       "2    87510   8000   5000000  Free    0.0       Everyone   \n",
       "3   215644  25000  50000000  Free    0.0           Teen   \n",
       "4      967   2000    100000  Free    0.0       Everyone   \n",
       "\n",
       "                      Genres      Last Updated         Current Ver  \\\n",
       "0               Art & Design   January 7, 2018               1.0.0   \n",
       "1  Art & Design;Pretend Play  January 15, 2018               2.0.0   \n",
       "2               Art & Design    August 1, 2018               1.2.4   \n",
       "3               Art & Design      June 8, 2018  Varies with device   \n",
       "4    Art & Design;Creativity     June 20, 2018                 1.1   \n",
       "\n",
       "    Android Ver  \n",
       "0  4.0.3 and up  \n",
       "1  4.0.3 and up  \n",
       "2  4.0.3 and up  \n",
       "3    4.2 and up  \n",
       "4    4.4 and up  "
      ]
     },
     "execution_count": 14,
     "metadata": {},
     "output_type": "execute_result"
    }
   ],
   "source": [
    "new_data.head()"
   ]
  },
  {
   "cell_type": "code",
   "execution_count": null,
   "id": "7a5a313c",
   "metadata": {},
   "outputs": [],
   "source": []
  },
  {
   "cell_type": "markdown",
   "id": "075a5cd7",
   "metadata": {},
   "source": [
    "## 5. Performing univariate analysis:"
   ]
  },
  {
   "cell_type": "code",
   "execution_count": 15,
   "id": "ef408ca1",
   "metadata": {},
   "outputs": [
    {
     "data": {
      "text/html": [
       "<div>\n",
       "<style scoped>\n",
       "    .dataframe tbody tr th:only-of-type {\n",
       "        vertical-align: middle;\n",
       "    }\n",
       "\n",
       "    .dataframe tbody tr th {\n",
       "        vertical-align: top;\n",
       "    }\n",
       "\n",
       "    .dataframe thead th {\n",
       "        text-align: right;\n",
       "    }\n",
       "</style>\n",
       "<table border=\"1\" class=\"dataframe\">\n",
       "  <thead>\n",
       "    <tr style=\"text-align: right;\">\n",
       "      <th></th>\n",
       "      <th>App</th>\n",
       "      <th>Category</th>\n",
       "      <th>Rating</th>\n",
       "      <th>Reviews</th>\n",
       "      <th>Size</th>\n",
       "      <th>Installs</th>\n",
       "      <th>Type</th>\n",
       "      <th>Price</th>\n",
       "      <th>Content Rating</th>\n",
       "      <th>Genres</th>\n",
       "      <th>Last Updated</th>\n",
       "      <th>Current Ver</th>\n",
       "      <th>Android Ver</th>\n",
       "    </tr>\n",
       "  </thead>\n",
       "  <tbody>\n",
       "    <tr>\n",
       "      <th>0</th>\n",
       "      <td>Photo Editor &amp; Candy Camera &amp; Grid &amp; ScrapBook</td>\n",
       "      <td>ART_AND_DESIGN</td>\n",
       "      <td>4.1</td>\n",
       "      <td>159</td>\n",
       "      <td>19000</td>\n",
       "      <td>10000</td>\n",
       "      <td>Free</td>\n",
       "      <td>0.0</td>\n",
       "      <td>Everyone</td>\n",
       "      <td>Art &amp; Design</td>\n",
       "      <td>January 7, 2018</td>\n",
       "      <td>1.0.0</td>\n",
       "      <td>4.0.3 and up</td>\n",
       "    </tr>\n",
       "    <tr>\n",
       "      <th>1</th>\n",
       "      <td>Coloring book moana</td>\n",
       "      <td>ART_AND_DESIGN</td>\n",
       "      <td>3.9</td>\n",
       "      <td>967</td>\n",
       "      <td>14000</td>\n",
       "      <td>500000</td>\n",
       "      <td>Free</td>\n",
       "      <td>0.0</td>\n",
       "      <td>Everyone</td>\n",
       "      <td>Art &amp; Design;Pretend Play</td>\n",
       "      <td>January 15, 2018</td>\n",
       "      <td>2.0.0</td>\n",
       "      <td>4.0.3 and up</td>\n",
       "    </tr>\n",
       "    <tr>\n",
       "      <th>2</th>\n",
       "      <td>U Launcher Lite – FREE Live Cool Themes, Hide ...</td>\n",
       "      <td>ART_AND_DESIGN</td>\n",
       "      <td>4.7</td>\n",
       "      <td>87510</td>\n",
       "      <td>8000</td>\n",
       "      <td>5000000</td>\n",
       "      <td>Free</td>\n",
       "      <td>0.0</td>\n",
       "      <td>Everyone</td>\n",
       "      <td>Art &amp; Design</td>\n",
       "      <td>August 1, 2018</td>\n",
       "      <td>1.2.4</td>\n",
       "      <td>4.0.3 and up</td>\n",
       "    </tr>\n",
       "    <tr>\n",
       "      <th>3</th>\n",
       "      <td>Sketch - Draw &amp; Paint</td>\n",
       "      <td>ART_AND_DESIGN</td>\n",
       "      <td>4.5</td>\n",
       "      <td>215644</td>\n",
       "      <td>25000</td>\n",
       "      <td>50000000</td>\n",
       "      <td>Free</td>\n",
       "      <td>0.0</td>\n",
       "      <td>Teen</td>\n",
       "      <td>Art &amp; Design</td>\n",
       "      <td>June 8, 2018</td>\n",
       "      <td>Varies with device</td>\n",
       "      <td>4.2 and up</td>\n",
       "    </tr>\n",
       "    <tr>\n",
       "      <th>4</th>\n",
       "      <td>Pixel Draw - Number Art Coloring Book</td>\n",
       "      <td>ART_AND_DESIGN</td>\n",
       "      <td>4.3</td>\n",
       "      <td>967</td>\n",
       "      <td>2000</td>\n",
       "      <td>100000</td>\n",
       "      <td>Free</td>\n",
       "      <td>0.0</td>\n",
       "      <td>Everyone</td>\n",
       "      <td>Art &amp; Design;Creativity</td>\n",
       "      <td>June 20, 2018</td>\n",
       "      <td>1.1</td>\n",
       "      <td>4.4 and up</td>\n",
       "    </tr>\n",
       "  </tbody>\n",
       "</table>\n",
       "</div>"
      ],
      "text/plain": [
       "                                                 App        Category  Rating  \\\n",
       "0     Photo Editor & Candy Camera & Grid & ScrapBook  ART_AND_DESIGN     4.1   \n",
       "1                                Coloring book moana  ART_AND_DESIGN     3.9   \n",
       "2  U Launcher Lite – FREE Live Cool Themes, Hide ...  ART_AND_DESIGN     4.7   \n",
       "3                              Sketch - Draw & Paint  ART_AND_DESIGN     4.5   \n",
       "4              Pixel Draw - Number Art Coloring Book  ART_AND_DESIGN     4.3   \n",
       "\n",
       "   Reviews   Size  Installs  Type  Price Content Rating  \\\n",
       "0      159  19000     10000  Free    0.0       Everyone   \n",
       "1      967  14000    500000  Free    0.0       Everyone   \n",
       "2    87510   8000   5000000  Free    0.0       Everyone   \n",
       "3   215644  25000  50000000  Free    0.0           Teen   \n",
       "4      967   2000    100000  Free    0.0       Everyone   \n",
       "\n",
       "                      Genres      Last Updated         Current Ver  \\\n",
       "0               Art & Design   January 7, 2018               1.0.0   \n",
       "1  Art & Design;Pretend Play  January 15, 2018               2.0.0   \n",
       "2               Art & Design    August 1, 2018               1.2.4   \n",
       "3               Art & Design      June 8, 2018  Varies with device   \n",
       "4    Art & Design;Creativity     June 20, 2018                 1.1   \n",
       "\n",
       "    Android Ver  \n",
       "0  4.0.3 and up  \n",
       "1  4.0.3 and up  \n",
       "2  4.0.3 and up  \n",
       "3    4.2 and up  \n",
       "4    4.4 and up  "
      ]
     },
     "execution_count": 15,
     "metadata": {},
     "output_type": "execute_result"
    }
   ],
   "source": [
    "new_data.head()"
   ]
  },
  {
   "cell_type": "markdown",
   "id": "1f7586ba",
   "metadata": {},
   "source": [
    "### Boxplot for Price"
   ]
  },
  {
   "cell_type": "code",
   "execution_count": 16,
   "id": "2f506b75",
   "metadata": {},
   "outputs": [
    {
     "name": "stdout",
     "output_type": "stream",
     "text": [
      "200 is definetly high price\n"
     ]
    },
    {
     "data": {
      "image/png": "[encoded data removed]",
      "text/plain": [
       "<Figure size 432x288 with 1 Axes>"
      ]
     },
     "metadata": {
      "needs_background": "light"
     },
     "output_type": "display_data"
    }
   ],
   "source": [
    "plt.boxplot(new_data['Price'])\n",
    "print('200 is definetly high price')"
   ]
  },
  {
   "cell_type": "markdown",
   "id": "519b8e80",
   "metadata": {},
   "source": [
    "### Boxplot for Reviews "
   ]
  },
  {
   "cell_type": "code",
   "execution_count": 17,
   "id": "3cc7980f",
   "metadata": {},
   "outputs": [
    {
     "name": "stdout",
     "output_type": "stream",
     "text": [
      "There are definetly some apps high reviews above 4\n"
     ]
    },
    {
     "data": {
      "image/png": "[encoded data removed]",
      "text/plain": [
       "<Figure size 432x288 with 1 Axes>"
      ]
     },
     "metadata": {
      "needs_background": "light"
     },
     "output_type": "display_data"
    }
   ],
   "source": [
    "plt.boxplot(new_data['Reviews'])\n",
    "print('There are definetly some apps high reviews above 4')"
   ]
  },
  {
   "cell_type": "markdown",
   "id": "12088fbf",
   "metadata": {},
   "source": [
    "### Histogram for Rating"
   ]
  },
  {
   "cell_type": "code",
   "execution_count": 18,
   "id": "9437eef3",
   "metadata": {},
   "outputs": [
    {
     "name": "stdout",
     "output_type": "stream",
     "text": [
      "Rating is more skewed on higher side\n"
     ]
    },
    {
     "data": {
      "image/png": "[encoded data removed]",
      "text/plain": [
       "<Figure size 432x288 with 1 Axes>"
      ]
     },
     "metadata": {
      "needs_background": "light"
     },
     "output_type": "display_data"
    }
   ],
   "source": [
    "plt.hist(new_data['Rating'])\n",
    "print(\"Rating is more skewed on higher side\")"
   ]
  },
  {
   "cell_type": "markdown",
   "id": "519c1251",
   "metadata": {},
   "source": [
    "### Histogram for Size"
   ]
  },
  {
   "cell_type": "code",
   "execution_count": 19,
   "id": "4a403b36",
   "metadata": {},
   "outputs": [
    {
     "data": {
      "text/plain": [
       "(array([3078., 1352.,  954.,  597.,  444.,  321.,  219.,  159.,  116.,\n",
       "         197.]),\n",
       " array([8.00000e+00, 1.00072e+04, 2.00064e+04, 3.00056e+04, 4.00048e+04,\n",
       "        5.00040e+04, 6.00032e+04, 7.00024e+04, 8.00016e+04, 9.00008e+04,\n",
       "        1.00000e+05]),\n",
       " <BarContainer object of 10 artists>)"
      ]
     },
     "execution_count": 19,
     "metadata": {},
     "output_type": "execute_result"
    },
    {
     "data": {
      "image/png": "[encoded data removed]",
      "text/plain": [
       "<Figure size 432x288 with 1 Axes>"
      ]
     },
     "metadata": {
      "needs_background": "light"
     },
     "output_type": "display_data"
    }
   ],
   "source": [
    "plt.hist(new_data['Size'])"
   ]
  },
  {
   "cell_type": "code",
   "execution_count": null,
   "id": "82877588",
   "metadata": {},
   "outputs": [],
   "source": []
  },
  {
   "cell_type": "markdown",
   "id": "0d965435",
   "metadata": {},
   "source": [
    "## 6. Outlier treatment:  "
   ]
  },
  {
   "cell_type": "code",
   "execution_count": 20,
   "id": "44ab9b45",
   "metadata": {},
   "outputs": [
    {
     "data": {
      "text/html": [
       "<div>\n",
       "<style scoped>\n",
       "    .dataframe tbody tr th:only-of-type {\n",
       "        vertical-align: middle;\n",
       "    }\n",
       "\n",
       "    .dataframe tbody tr th {\n",
       "        vertical-align: top;\n",
       "    }\n",
       "\n",
       "    .dataframe thead th {\n",
       "        text-align: right;\n",
       "    }\n",
       "</style>\n",
       "<table border=\"1\" class=\"dataframe\">\n",
       "  <thead>\n",
       "    <tr style=\"text-align: right;\">\n",
       "      <th></th>\n",
       "      <th>App</th>\n",
       "      <th>Category</th>\n",
       "      <th>Rating</th>\n",
       "      <th>Reviews</th>\n",
       "      <th>Size</th>\n",
       "      <th>Installs</th>\n",
       "      <th>Type</th>\n",
       "      <th>Price</th>\n",
       "      <th>Content Rating</th>\n",
       "      <th>Genres</th>\n",
       "      <th>Last Updated</th>\n",
       "      <th>Current Ver</th>\n",
       "      <th>Android Ver</th>\n",
       "    </tr>\n",
       "  </thead>\n",
       "  <tbody>\n",
       "    <tr>\n",
       "      <th>0</th>\n",
       "      <td>Photo Editor &amp; Candy Camera &amp; Grid &amp; ScrapBook</td>\n",
       "      <td>ART_AND_DESIGN</td>\n",
       "      <td>4.1</td>\n",
       "      <td>159</td>\n",
       "      <td>19000</td>\n",
       "      <td>10000</td>\n",
       "      <td>Free</td>\n",
       "      <td>0.0</td>\n",
       "      <td>Everyone</td>\n",
       "      <td>Art &amp; Design</td>\n",
       "      <td>January 7, 2018</td>\n",
       "      <td>1.0.0</td>\n",
       "      <td>4.0.3 and up</td>\n",
       "    </tr>\n",
       "    <tr>\n",
       "      <th>1</th>\n",
       "      <td>Coloring book moana</td>\n",
       "      <td>ART_AND_DESIGN</td>\n",
       "      <td>3.9</td>\n",
       "      <td>967</td>\n",
       "      <td>14000</td>\n",
       "      <td>500000</td>\n",
       "      <td>Free</td>\n",
       "      <td>0.0</td>\n",
       "      <td>Everyone</td>\n",
       "      <td>Art &amp; Design;Pretend Play</td>\n",
       "      <td>January 15, 2018</td>\n",
       "      <td>2.0.0</td>\n",
       "      <td>4.0.3 and up</td>\n",
       "    </tr>\n",
       "    <tr>\n",
       "      <th>2</th>\n",
       "      <td>U Launcher Lite – FREE Live Cool Themes, Hide ...</td>\n",
       "      <td>ART_AND_DESIGN</td>\n",
       "      <td>4.7</td>\n",
       "      <td>87510</td>\n",
       "      <td>8000</td>\n",
       "      <td>5000000</td>\n",
       "      <td>Free</td>\n",
       "      <td>0.0</td>\n",
       "      <td>Everyone</td>\n",
       "      <td>Art &amp; Design</td>\n",
       "      <td>August 1, 2018</td>\n",
       "      <td>1.2.4</td>\n",
       "      <td>4.0.3 and up</td>\n",
       "    </tr>\n",
       "    <tr>\n",
       "      <th>3</th>\n",
       "      <td>Sketch - Draw &amp; Paint</td>\n",
       "      <td>ART_AND_DESIGN</td>\n",
       "      <td>4.5</td>\n",
       "      <td>215644</td>\n",
       "      <td>25000</td>\n",
       "      <td>50000000</td>\n",
       "      <td>Free</td>\n",
       "      <td>0.0</td>\n",
       "      <td>Teen</td>\n",
       "      <td>Art &amp; Design</td>\n",
       "      <td>June 8, 2018</td>\n",
       "      <td>Varies with device</td>\n",
       "      <td>4.2 and up</td>\n",
       "    </tr>\n",
       "    <tr>\n",
       "      <th>4</th>\n",
       "      <td>Pixel Draw - Number Art Coloring Book</td>\n",
       "      <td>ART_AND_DESIGN</td>\n",
       "      <td>4.3</td>\n",
       "      <td>967</td>\n",
       "      <td>2000</td>\n",
       "      <td>100000</td>\n",
       "      <td>Free</td>\n",
       "      <td>0.0</td>\n",
       "      <td>Everyone</td>\n",
       "      <td>Art &amp; Design;Creativity</td>\n",
       "      <td>June 20, 2018</td>\n",
       "      <td>1.1</td>\n",
       "      <td>4.4 and up</td>\n",
       "    </tr>\n",
       "    <tr>\n",
       "      <th>...</th>\n",
       "      <td>...</td>\n",
       "      <td>...</td>\n",
       "      <td>...</td>\n",
       "      <td>...</td>\n",
       "      <td>...</td>\n",
       "      <td>...</td>\n",
       "      <td>...</td>\n",
       "      <td>...</td>\n",
       "      <td>...</td>\n",
       "      <td>...</td>\n",
       "      <td>...</td>\n",
       "      <td>...</td>\n",
       "      <td>...</td>\n",
       "    </tr>\n",
       "    <tr>\n",
       "      <th>10732</th>\n",
       "      <td>Draw with FP sDraw</td>\n",
       "      <td>TOOLS</td>\n",
       "      <td>4.3</td>\n",
       "      <td>3268</td>\n",
       "      <td>467</td>\n",
       "      <td>100000</td>\n",
       "      <td>Free</td>\n",
       "      <td>0.0</td>\n",
       "      <td>Everyone</td>\n",
       "      <td>Tools</td>\n",
       "      <td>December 16, 2017</td>\n",
       "      <td>6.6</td>\n",
       "      <td>2.0 and up</td>\n",
       "    </tr>\n",
       "    <tr>\n",
       "      <th>10755</th>\n",
       "      <td>Hondata Mobile</td>\n",
       "      <td>MAPS_AND_NAVIGATION</td>\n",
       "      <td>4.3</td>\n",
       "      <td>334</td>\n",
       "      <td>676</td>\n",
       "      <td>10000</td>\n",
       "      <td>Free</td>\n",
       "      <td>0.0</td>\n",
       "      <td>Everyone</td>\n",
       "      <td>Maps &amp; Navigation</td>\n",
       "      <td>August 23, 2016</td>\n",
       "      <td>1.3</td>\n",
       "      <td>2.3.3 and up</td>\n",
       "    </tr>\n",
       "    <tr>\n",
       "      <th>10763</th>\n",
       "      <td>FP Разбитый дисплей</td>\n",
       "      <td>FAMILY</td>\n",
       "      <td>4.5</td>\n",
       "      <td>922</td>\n",
       "      <td>552</td>\n",
       "      <td>50000</td>\n",
       "      <td>Free</td>\n",
       "      <td>0.0</td>\n",
       "      <td>Everyone</td>\n",
       "      <td>Entertainment</td>\n",
       "      <td>September 20, 2014</td>\n",
       "      <td>1.1</td>\n",
       "      <td>1.6 and up</td>\n",
       "    </tr>\n",
       "    <tr>\n",
       "      <th>10832</th>\n",
       "      <td>FR Tides</td>\n",
       "      <td>WEATHER</td>\n",
       "      <td>3.8</td>\n",
       "      <td>1195</td>\n",
       "      <td>582</td>\n",
       "      <td>100000</td>\n",
       "      <td>Free</td>\n",
       "      <td>0.0</td>\n",
       "      <td>Everyone</td>\n",
       "      <td>Weather</td>\n",
       "      <td>February 16, 2014</td>\n",
       "      <td>6.0</td>\n",
       "      <td>2.1 and up</td>\n",
       "    </tr>\n",
       "    <tr>\n",
       "      <th>10833</th>\n",
       "      <td>Chemin (fr)</td>\n",
       "      <td>BOOKS_AND_REFERENCE</td>\n",
       "      <td>4.8</td>\n",
       "      <td>44</td>\n",
       "      <td>619</td>\n",
       "      <td>1000</td>\n",
       "      <td>Free</td>\n",
       "      <td>0.0</td>\n",
       "      <td>Everyone</td>\n",
       "      <td>Books &amp; Reference</td>\n",
       "      <td>March 23, 2014</td>\n",
       "      <td>0.8</td>\n",
       "      <td>2.2 and up</td>\n",
       "    </tr>\n",
       "  </tbody>\n",
       "</table>\n",
       "<p>7437 rows × 13 columns</p>\n",
       "</div>"
      ],
      "text/plain": [
       "                                                     App             Category  \\\n",
       "0         Photo Editor & Candy Camera & Grid & ScrapBook       ART_AND_DESIGN   \n",
       "1                                    Coloring book moana       ART_AND_DESIGN   \n",
       "2      U Launcher Lite – FREE Live Cool Themes, Hide ...       ART_AND_DESIGN   \n",
       "3                                  Sketch - Draw & Paint       ART_AND_DESIGN   \n",
       "4                  Pixel Draw - Number Art Coloring Book       ART_AND_DESIGN   \n",
       "...                                                  ...                  ...   \n",
       "10732                                 Draw with FP sDraw                TOOLS   \n",
       "10755                                     Hondata Mobile  MAPS_AND_NAVIGATION   \n",
       "10763                                FP Разбитый дисплей               FAMILY   \n",
       "10832                                           FR Tides              WEATHER   \n",
       "10833                                        Chemin (fr)  BOOKS_AND_REFERENCE   \n",
       "\n",
       "       Rating  Reviews   Size  Installs  Type  Price Content Rating  \\\n",
       "0         4.1      159  19000     10000  Free    0.0       Everyone   \n",
       "1         3.9      967  14000    500000  Free    0.0       Everyone   \n",
       "2         4.7    87510   8000   5000000  Free    0.0       Everyone   \n",
       "3         4.5   215644  25000  50000000  Free    0.0           Teen   \n",
       "4         4.3      967   2000    100000  Free    0.0       Everyone   \n",
       "...       ...      ...    ...       ...   ...    ...            ...   \n",
       "10732     4.3     3268    467    100000  Free    0.0       Everyone   \n",
       "10755     4.3      334    676     10000  Free    0.0       Everyone   \n",
       "10763     4.5      922    552     50000  Free    0.0       Everyone   \n",
       "10832     3.8     1195    582    100000  Free    0.0       Everyone   \n",
       "10833     4.8       44    619      1000  Free    0.0       Everyone   \n",
       "\n",
       "                          Genres        Last Updated         Current Ver  \\\n",
       "0                   Art & Design     January 7, 2018               1.0.0   \n",
       "1      Art & Design;Pretend Play    January 15, 2018               2.0.0   \n",
       "2                   Art & Design      August 1, 2018               1.2.4   \n",
       "3                   Art & Design        June 8, 2018  Varies with device   \n",
       "4        Art & Design;Creativity       June 20, 2018                 1.1   \n",
       "...                          ...                 ...                 ...   \n",
       "10732                      Tools   December 16, 2017                 6.6   \n",
       "10755          Maps & Navigation     August 23, 2016                 1.3   \n",
       "10763              Entertainment  September 20, 2014                 1.1   \n",
       "10832                    Weather   February 16, 2014                 6.0   \n",
       "10833          Books & Reference      March 23, 2014                 0.8   \n",
       "\n",
       "        Android Ver  \n",
       "0      4.0.3 and up  \n",
       "1      4.0.3 and up  \n",
       "2      4.0.3 and up  \n",
       "3        4.2 and up  \n",
       "4        4.4 and up  \n",
       "...             ...  \n",
       "10732    2.0 and up  \n",
       "10755  2.3.3 and up  \n",
       "10763    1.6 and up  \n",
       "10832    2.1 and up  \n",
       "10833    2.2 and up  \n",
       "\n",
       "[7437 rows x 13 columns]"
      ]
     },
     "execution_count": 20,
     "metadata": {},
     "output_type": "execute_result"
    }
   ],
   "source": [
    "new_data"
   ]
  },
  {
   "cell_type": "markdown",
   "id": "e03229eb",
   "metadata": {},
   "source": [
    "### Price: "
   ]
  },
  {
   "cell_type": "code",
   "execution_count": 21,
   "id": "72bf23e1",
   "metadata": {},
   "outputs": [],
   "source": [
    "new_data = new_data[new_data['Price']<200]"
   ]
  },
  {
   "cell_type": "markdown",
   "id": "7e3cc48d",
   "metadata": {},
   "source": [
    "### Reviews: "
   ]
  },
  {
   "cell_type": "code",
   "execution_count": 22,
   "id": "9f2d322d",
   "metadata": {},
   "outputs": [],
   "source": [
    "new_data = new_data[(new_data['Reviews'] < 2000000)]"
   ]
  },
  {
   "cell_type": "markdown",
   "id": "27b50d0a",
   "metadata": {},
   "source": [
    "### Installs: "
   ]
  },
  {
   "cell_type": "code",
   "execution_count": 23,
   "id": "a0eddd65",
   "metadata": {},
   "outputs": [],
   "source": [
    "quartile_10 = np.percentile(new_data['Installs'],10)\n",
    "quartile_25 = np.percentile(new_data['Installs'],25)\n",
    "quartile_50 = np.percentile(new_data['Installs'],50)\n",
    "quartile_70 = np.percentile(new_data['Installs'],70)\n",
    "quartile_75 = np.percentile(new_data['Installs'],75)\n",
    "quartile_90 = np.percentile(new_data['Installs'],90)\n",
    "quartile_95 = np.percentile(new_data['Installs'],95)\n",
    "quartile_99 = np.percentile(new_data['Installs'],99)"
   ]
  },
  {
   "cell_type": "markdown",
   "id": "d32c577c",
   "metadata": {},
   "source": [
    "#### Decide a threshold"
   ]
  },
  {
   "cell_type": "code",
   "execution_count": 24,
   "id": "dc9af4ba",
   "metadata": {},
   "outputs": [
    {
     "data": {
      "text/plain": [
       "990000.0"
      ]
     },
     "execution_count": 24,
     "metadata": {},
     "output_type": "execute_result"
    }
   ],
   "source": [
    "iqr = quartile_75 - quartile_25\n",
    "iqr"
   ]
  },
  {
   "cell_type": "code",
   "execution_count": 25,
   "id": "bbb66352",
   "metadata": {},
   "outputs": [
    {
     "data": {
      "text/plain": [
       "-1475000.0"
      ]
     },
     "execution_count": 25,
     "metadata": {},
     "output_type": "execute_result"
    }
   ],
   "source": [
    "lower_bound_value = quartile_25 -(1.5*iqr)\n",
    "lower_bound_value"
   ]
  },
  {
   "cell_type": "code",
   "execution_count": 26,
   "id": "30ba48e4",
   "metadata": {},
   "outputs": [
    {
     "data": {
      "text/plain": [
       "2485000.0"
      ]
     },
     "execution_count": 26,
     "metadata": {},
     "output_type": "execute_result"
    }
   ],
   "source": [
    "upper_bound_value = quartile_75 + (1.5*iqr)\n",
    "upper_bound_value"
   ]
  },
  {
   "cell_type": "code",
   "execution_count": 27,
   "id": "99999b17",
   "metadata": {},
   "outputs": [],
   "source": [
    "new_data = new_data[(new_data['Installs'] > lower_bound_value) & (new_data['Installs'] < upper_bound_value)]"
   ]
  },
  {
   "cell_type": "code",
   "execution_count": 28,
   "id": "e13459bd",
   "metadata": {},
   "outputs": [
    {
     "data": {
      "text/html": [
       "<div>\n",
       "<style scoped>\n",
       "    .dataframe tbody tr th:only-of-type {\n",
       "        vertical-align: middle;\n",
       "    }\n",
       "\n",
       "    .dataframe tbody tr th {\n",
       "        vertical-align: top;\n",
       "    }\n",
       "\n",
       "    .dataframe thead th {\n",
       "        text-align: right;\n",
       "    }\n",
       "</style>\n",
       "<table border=\"1\" class=\"dataframe\">\n",
       "  <thead>\n",
       "    <tr style=\"text-align: right;\">\n",
       "      <th></th>\n",
       "      <th>App</th>\n",
       "      <th>Category</th>\n",
       "      <th>Rating</th>\n",
       "      <th>Reviews</th>\n",
       "      <th>Size</th>\n",
       "      <th>Installs</th>\n",
       "      <th>Type</th>\n",
       "      <th>Price</th>\n",
       "      <th>Content Rating</th>\n",
       "      <th>Genres</th>\n",
       "      <th>Last Updated</th>\n",
       "      <th>Current Ver</th>\n",
       "      <th>Android Ver</th>\n",
       "    </tr>\n",
       "  </thead>\n",
       "  <tbody>\n",
       "    <tr>\n",
       "      <th>0</th>\n",
       "      <td>Photo Editor &amp; Candy Camera &amp; Grid &amp; ScrapBook</td>\n",
       "      <td>ART_AND_DESIGN</td>\n",
       "      <td>4.1</td>\n",
       "      <td>159</td>\n",
       "      <td>19000</td>\n",
       "      <td>10000</td>\n",
       "      <td>Free</td>\n",
       "      <td>0.0</td>\n",
       "      <td>Everyone</td>\n",
       "      <td>Art &amp; Design</td>\n",
       "      <td>January 7, 2018</td>\n",
       "      <td>1.0.0</td>\n",
       "      <td>4.0.3 and up</td>\n",
       "    </tr>\n",
       "    <tr>\n",
       "      <th>1</th>\n",
       "      <td>Coloring book moana</td>\n",
       "      <td>ART_AND_DESIGN</td>\n",
       "      <td>3.9</td>\n",
       "      <td>967</td>\n",
       "      <td>14000</td>\n",
       "      <td>500000</td>\n",
       "      <td>Free</td>\n",
       "      <td>0.0</td>\n",
       "      <td>Everyone</td>\n",
       "      <td>Art &amp; Design;Pretend Play</td>\n",
       "      <td>January 15, 2018</td>\n",
       "      <td>2.0.0</td>\n",
       "      <td>4.0.3 and up</td>\n",
       "    </tr>\n",
       "    <tr>\n",
       "      <th>4</th>\n",
       "      <td>Pixel Draw - Number Art Coloring Book</td>\n",
       "      <td>ART_AND_DESIGN</td>\n",
       "      <td>4.3</td>\n",
       "      <td>967</td>\n",
       "      <td>2000</td>\n",
       "      <td>100000</td>\n",
       "      <td>Free</td>\n",
       "      <td>0.0</td>\n",
       "      <td>Everyone</td>\n",
       "      <td>Art &amp; Design;Creativity</td>\n",
       "      <td>June 20, 2018</td>\n",
       "      <td>1.1</td>\n",
       "      <td>4.4 and up</td>\n",
       "    </tr>\n",
       "  </tbody>\n",
       "</table>\n",
       "</div>"
      ],
      "text/plain": [
       "                                              App        Category  Rating  \\\n",
       "0  Photo Editor & Candy Camera & Grid & ScrapBook  ART_AND_DESIGN     4.1   \n",
       "1                             Coloring book moana  ART_AND_DESIGN     3.9   \n",
       "4           Pixel Draw - Number Art Coloring Book  ART_AND_DESIGN     4.3   \n",
       "\n",
       "   Reviews   Size  Installs  Type  Price Content Rating  \\\n",
       "0      159  19000     10000  Free    0.0       Everyone   \n",
       "1      967  14000    500000  Free    0.0       Everyone   \n",
       "4      967   2000    100000  Free    0.0       Everyone   \n",
       "\n",
       "                      Genres      Last Updated Current Ver   Android Ver  \n",
       "0               Art & Design   January 7, 2018       1.0.0  4.0.3 and up  \n",
       "1  Art & Design;Pretend Play  January 15, 2018       2.0.0  4.0.3 and up  \n",
       "4    Art & Design;Creativity     June 20, 2018         1.1    4.4 and up  "
      ]
     },
     "execution_count": 28,
     "metadata": {},
     "output_type": "execute_result"
    }
   ],
   "source": [
    "new_data.head(3)"
   ]
  },
  {
   "cell_type": "code",
   "execution_count": null,
   "id": "8ca5e5d4",
   "metadata": {},
   "outputs": [],
   "source": []
  },
  {
   "cell_type": "markdown",
   "id": "23ec7c66",
   "metadata": {},
   "source": [
    "## 7. Bivariate analysis:"
   ]
  },
  {
   "cell_type": "markdown",
   "id": "8538fba5",
   "metadata": {},
   "source": [
    "### scatter plot for Rating vs Price "
   ]
  },
  {
   "cell_type": "code",
   "execution_count": 29,
   "id": "ac28fe03",
   "metadata": {},
   "outputs": [
    {
     "name": "stdout",
     "output_type": "stream",
     "text": [
      "Rating Incerses with Price\n"
     ]
    },
    {
     "data": {
      "image/png": "[encoded data removed]",
      "text/plain": [
       "<Figure size 432x288 with 1 Axes>"
      ]
     },
     "metadata": {
      "needs_background": "light"
     },
     "output_type": "display_data"
    }
   ],
   "source": [
    "sns.scatterplot(x='Rating',y='Price',data=new_data)\n",
    "print('Rating Incerses with Price')"
   ]
  },
  {
   "cell_type": "markdown",
   "id": "7f5426a6",
   "metadata": {},
   "source": [
    "### scatter plot for Rating vs. Size"
   ]
  },
  {
   "cell_type": "code",
   "execution_count": 30,
   "id": "df76090e",
   "metadata": {},
   "outputs": [
    {
     "name": "stdout",
     "output_type": "stream",
     "text": [
      "As the size of the app increses we can see the higher amount of Ratings\n"
     ]
    },
    {
     "data": {
      "image/png": "[encoded data removed]",
      "text/plain": [
       "<Figure size 432x288 with 1 Axes>"
      ]
     },
     "metadata": {
      "needs_background": "light"
     },
     "output_type": "display_data"
    }
   ],
   "source": [
    "sns.scatterplot(x='Rating',y='Size',data=new_data)\n",
    "print('As the size of the app increses we can see the higher amount of Ratings')"
   ]
  },
  {
   "cell_type": "markdown",
   "id": "b4d904ba",
   "metadata": {},
   "source": [
    "### scatter plot for Rating vs. Reviews "
   ]
  },
  {
   "cell_type": "code",
   "execution_count": 31,
   "id": "f3af2c22",
   "metadata": {},
   "outputs": [
    {
     "name": "stdout",
     "output_type": "stream",
     "text": [
      "Rating and Reviews are directly proportinal to each other\n"
     ]
    },
    {
     "data": {
      "image/png": "[encoded data removed]",
      "text/plain": [
       "<Figure size 432x288 with 1 Axes>"
      ]
     },
     "metadata": {
      "needs_background": "light"
     },
     "output_type": "display_data"
    }
   ],
   "source": [
    "sns.scatterplot(x='Rating',y='Reviews',data=new_data)\n",
    "print('Rating and Reviews are directly proportinal to each other')"
   ]
  },
  {
   "cell_type": "markdown",
   "id": "664ec537",
   "metadata": {},
   "source": [
    "### boxplot for Rating vs. Content Rating "
   ]
  },
  {
   "cell_type": "code",
   "execution_count": 32,
   "id": "7bb8c077",
   "metadata": {},
   "outputs": [
    {
     "name": "stdout",
     "output_type": "stream",
     "text": [
      "There are more outliers in the Everyone\n"
     ]
    },
    {
     "data": {
      "image/png": "[encoded data removed]",
      "text/plain": [
       "<Figure size 432x288 with 1 Axes>"
      ]
     },
     "metadata": {
      "needs_background": "light"
     },
     "output_type": "display_data"
    }
   ],
   "source": [
    "sns.boxplot(x='Rating',y='Content Rating',data=new_data)\n",
    "print('There are more outliers in the Everyone')"
   ]
  },
  {
   "cell_type": "markdown",
   "id": "a28334c7",
   "metadata": {},
   "source": [
    "### boxplot for Ratings vs. Category "
   ]
  },
  {
   "cell_type": "code",
   "execution_count": 33,
   "id": "f9177726",
   "metadata": {},
   "outputs": [
    {
     "data": {
      "image/png": "[encoded data removed]",
      "text/plain": [
       "<Figure size 1080x720 with 1 Axes>"
      ]
     },
     "metadata": {
      "needs_background": "light"
     },
     "output_type": "display_data"
    }
   ],
   "source": [
    "sns.catplot(x='Rating',y='Category',data=new_data,kind='box',aspect=1.5,height=10)\n",
    "plt.tight_layout()"
   ]
  },
  {
   "cell_type": "code",
   "execution_count": null,
   "id": "bef60157",
   "metadata": {},
   "outputs": [],
   "source": []
  },
  {
   "cell_type": "markdown",
   "id": "abe6929b",
   "metadata": {},
   "source": [
    "## 8. Data preprocessing"
   ]
  },
  {
   "cell_type": "markdown",
   "id": "f4b5fdbb",
   "metadata": {},
   "source": [
    "### Apply np.log to Reviews and Install "
   ]
  },
  {
   "cell_type": "code",
   "execution_count": 34,
   "id": "177ad97b",
   "metadata": {},
   "outputs": [],
   "source": [
    "new_data['Reviews'] = new_data['Reviews'].apply(lambda x: np.log(x+1))\n",
    "new_data['Installs'] = new_data['Installs'].apply(lambda x: np.log(x+1))"
   ]
  },
  {
   "cell_type": "code",
   "execution_count": 35,
   "id": "e5bea474",
   "metadata": {},
   "outputs": [
    {
     "data": {
      "text/html": [
       "<div>\n",
       "<style scoped>\n",
       "    .dataframe tbody tr th:only-of-type {\n",
       "        vertical-align: middle;\n",
       "    }\n",
       "\n",
       "    .dataframe tbody tr th {\n",
       "        vertical-align: top;\n",
       "    }\n",
       "\n",
       "    .dataframe thead th {\n",
       "        text-align: right;\n",
       "    }\n",
       "</style>\n",
       "<table border=\"1\" class=\"dataframe\">\n",
       "  <thead>\n",
       "    <tr style=\"text-align: right;\">\n",
       "      <th></th>\n",
       "      <th>App</th>\n",
       "      <th>Category</th>\n",
       "      <th>Rating</th>\n",
       "      <th>Reviews</th>\n",
       "      <th>Size</th>\n",
       "      <th>Installs</th>\n",
       "      <th>Type</th>\n",
       "      <th>Price</th>\n",
       "      <th>Content Rating</th>\n",
       "      <th>Genres</th>\n",
       "      <th>Last Updated</th>\n",
       "      <th>Current Ver</th>\n",
       "      <th>Android Ver</th>\n",
       "    </tr>\n",
       "  </thead>\n",
       "  <tbody>\n",
       "    <tr>\n",
       "      <th>0</th>\n",
       "      <td>Photo Editor &amp; Candy Camera &amp; Grid &amp; ScrapBook</td>\n",
       "      <td>ART_AND_DESIGN</td>\n",
       "      <td>4.1</td>\n",
       "      <td>5.075174</td>\n",
       "      <td>19000</td>\n",
       "      <td>9.210440</td>\n",
       "      <td>Free</td>\n",
       "      <td>0.0</td>\n",
       "      <td>Everyone</td>\n",
       "      <td>Art &amp; Design</td>\n",
       "      <td>January 7, 2018</td>\n",
       "      <td>1.0.0</td>\n",
       "      <td>4.0.3 and up</td>\n",
       "    </tr>\n",
       "    <tr>\n",
       "      <th>1</th>\n",
       "      <td>Coloring book moana</td>\n",
       "      <td>ART_AND_DESIGN</td>\n",
       "      <td>3.9</td>\n",
       "      <td>6.875232</td>\n",
       "      <td>14000</td>\n",
       "      <td>13.122365</td>\n",
       "      <td>Free</td>\n",
       "      <td>0.0</td>\n",
       "      <td>Everyone</td>\n",
       "      <td>Art &amp; Design;Pretend Play</td>\n",
       "      <td>January 15, 2018</td>\n",
       "      <td>2.0.0</td>\n",
       "      <td>4.0.3 and up</td>\n",
       "    </tr>\n",
       "    <tr>\n",
       "      <th>4</th>\n",
       "      <td>Pixel Draw - Number Art Coloring Book</td>\n",
       "      <td>ART_AND_DESIGN</td>\n",
       "      <td>4.3</td>\n",
       "      <td>6.875232</td>\n",
       "      <td>2000</td>\n",
       "      <td>11.512935</td>\n",
       "      <td>Free</td>\n",
       "      <td>0.0</td>\n",
       "      <td>Everyone</td>\n",
       "      <td>Art &amp; Design;Creativity</td>\n",
       "      <td>June 20, 2018</td>\n",
       "      <td>1.1</td>\n",
       "      <td>4.4 and up</td>\n",
       "    </tr>\n",
       "    <tr>\n",
       "      <th>5</th>\n",
       "      <td>Paper flowers instructions</td>\n",
       "      <td>ART_AND_DESIGN</td>\n",
       "      <td>4.4</td>\n",
       "      <td>5.123964</td>\n",
       "      <td>5000</td>\n",
       "      <td>10.819798</td>\n",
       "      <td>Free</td>\n",
       "      <td>0.0</td>\n",
       "      <td>Everyone</td>\n",
       "      <td>Art &amp; Design</td>\n",
       "      <td>March 26, 2017</td>\n",
       "      <td>1.0</td>\n",
       "      <td>2.3 and up</td>\n",
       "    </tr>\n",
       "    <tr>\n",
       "      <th>6</th>\n",
       "      <td>Smoke Effect Photo Maker - Smoke Editor</td>\n",
       "      <td>ART_AND_DESIGN</td>\n",
       "      <td>3.8</td>\n",
       "      <td>5.187386</td>\n",
       "      <td>19000</td>\n",
       "      <td>10.819798</td>\n",
       "      <td>Free</td>\n",
       "      <td>0.0</td>\n",
       "      <td>Everyone</td>\n",
       "      <td>Art &amp; Design</td>\n",
       "      <td>April 26, 2018</td>\n",
       "      <td>1.1</td>\n",
       "      <td>4.0.3 and up</td>\n",
       "    </tr>\n",
       "  </tbody>\n",
       "</table>\n",
       "</div>"
      ],
      "text/plain": [
       "                                              App        Category  Rating  \\\n",
       "0  Photo Editor & Candy Camera & Grid & ScrapBook  ART_AND_DESIGN     4.1   \n",
       "1                             Coloring book moana  ART_AND_DESIGN     3.9   \n",
       "4           Pixel Draw - Number Art Coloring Book  ART_AND_DESIGN     4.3   \n",
       "5                      Paper flowers instructions  ART_AND_DESIGN     4.4   \n",
       "6         Smoke Effect Photo Maker - Smoke Editor  ART_AND_DESIGN     3.8   \n",
       "\n",
       "    Reviews   Size   Installs  Type  Price Content Rating  \\\n",
       "0  5.075174  19000   9.210440  Free    0.0       Everyone   \n",
       "1  6.875232  14000  13.122365  Free    0.0       Everyone   \n",
       "4  6.875232   2000  11.512935  Free    0.0       Everyone   \n",
       "5  5.123964   5000  10.819798  Free    0.0       Everyone   \n",
       "6  5.187386  19000  10.819798  Free    0.0       Everyone   \n",
       "\n",
       "                      Genres      Last Updated Current Ver   Android Ver  \n",
       "0               Art & Design   January 7, 2018       1.0.0  4.0.3 and up  \n",
       "1  Art & Design;Pretend Play  January 15, 2018       2.0.0  4.0.3 and up  \n",
       "4    Art & Design;Creativity     June 20, 2018         1.1    4.4 and up  \n",
       "5               Art & Design    March 26, 2017         1.0    2.3 and up  \n",
       "6               Art & Design    April 26, 2018         1.1  4.0.3 and up  "
      ]
     },
     "execution_count": 35,
     "metadata": {},
     "output_type": "execute_result"
    }
   ],
   "source": [
    "new_data.head()"
   ]
  },
  {
   "cell_type": "markdown",
   "id": "d3405345",
   "metadata": {},
   "source": [
    "### Drop columns"
   ]
  },
  {
   "cell_type": "code",
   "execution_count": 36,
   "id": "6bd089fe",
   "metadata": {},
   "outputs": [],
   "source": [
    "inp1 = new_data.drop(['App','Last Updated','Current Ver','Android Ver'],axis=1)"
   ]
  },
  {
   "cell_type": "code",
   "execution_count": 37,
   "id": "471f6b14",
   "metadata": {},
   "outputs": [],
   "source": [
    "inp1 = inp1.reset_index()"
   ]
  },
  {
   "cell_type": "markdown",
   "id": "5a5626bc",
   "metadata": {},
   "source": [
    "### Get dummy columns "
   ]
  },
  {
   "cell_type": "code",
   "execution_count": 38,
   "id": "c7708b29",
   "metadata": {},
   "outputs": [],
   "source": [
    "inp1 = pd.get_dummies(inp1,columns=['Category','Content Rating','Genres'],drop_first=True)"
   ]
  },
  {
   "cell_type": "code",
   "execution_count": 39,
   "id": "19becbef",
   "metadata": {},
   "outputs": [],
   "source": [
    "inp1 = inp1.drop(['Type'],axis=1)"
   ]
  },
  {
   "cell_type": "code",
   "execution_count": 40,
   "id": "1bc7c820",
   "metadata": {},
   "outputs": [
    {
     "data": {
      "text/html": [
       "<div>\n",
       "<style scoped>\n",
       "    .dataframe tbody tr th:only-of-type {\n",
       "        vertical-align: middle;\n",
       "    }\n",
       "\n",
       "    .dataframe tbody tr th {\n",
       "        vertical-align: top;\n",
       "    }\n",
       "\n",
       "    .dataframe thead th {\n",
       "        text-align: right;\n",
       "    }\n",
       "</style>\n",
       "<table border=\"1\" class=\"dataframe\">\n",
       "  <thead>\n",
       "    <tr style=\"text-align: right;\">\n",
       "      <th></th>\n",
       "      <th>index</th>\n",
       "      <th>Rating</th>\n",
       "      <th>Reviews</th>\n",
       "      <th>Size</th>\n",
       "      <th>Installs</th>\n",
       "      <th>Price</th>\n",
       "      <th>Category_AUTO_AND_VEHICLES</th>\n",
       "      <th>Category_BEAUTY</th>\n",
       "      <th>Category_BOOKS_AND_REFERENCE</th>\n",
       "      <th>Category_BUSINESS</th>\n",
       "      <th>...</th>\n",
       "      <th>Genres_Strategy;Action &amp; Adventure</th>\n",
       "      <th>Genres_Strategy;Creativity</th>\n",
       "      <th>Genres_Strategy;Education</th>\n",
       "      <th>Genres_Tools</th>\n",
       "      <th>Genres_Travel &amp; Local</th>\n",
       "      <th>Genres_Travel &amp; Local;Action &amp; Adventure</th>\n",
       "      <th>Genres_Trivia</th>\n",
       "      <th>Genres_Video Players &amp; Editors</th>\n",
       "      <th>Genres_Weather</th>\n",
       "      <th>Genres_Word</th>\n",
       "    </tr>\n",
       "  </thead>\n",
       "  <tbody>\n",
       "    <tr>\n",
       "      <th>0</th>\n",
       "      <td>0</td>\n",
       "      <td>4.1</td>\n",
       "      <td>5.075174</td>\n",
       "      <td>19000</td>\n",
       "      <td>9.210440</td>\n",
       "      <td>0.0</td>\n",
       "      <td>0</td>\n",
       "      <td>0</td>\n",
       "      <td>0</td>\n",
       "      <td>0</td>\n",
       "      <td>...</td>\n",
       "      <td>0</td>\n",
       "      <td>0</td>\n",
       "      <td>0</td>\n",
       "      <td>0</td>\n",
       "      <td>0</td>\n",
       "      <td>0</td>\n",
       "      <td>0</td>\n",
       "      <td>0</td>\n",
       "      <td>0</td>\n",
       "      <td>0</td>\n",
       "    </tr>\n",
       "    <tr>\n",
       "      <th>1</th>\n",
       "      <td>1</td>\n",
       "      <td>3.9</td>\n",
       "      <td>6.875232</td>\n",
       "      <td>14000</td>\n",
       "      <td>13.122365</td>\n",
       "      <td>0.0</td>\n",
       "      <td>0</td>\n",
       "      <td>0</td>\n",
       "      <td>0</td>\n",
       "      <td>0</td>\n",
       "      <td>...</td>\n",
       "      <td>0</td>\n",
       "      <td>0</td>\n",
       "      <td>0</td>\n",
       "      <td>0</td>\n",
       "      <td>0</td>\n",
       "      <td>0</td>\n",
       "      <td>0</td>\n",
       "      <td>0</td>\n",
       "      <td>0</td>\n",
       "      <td>0</td>\n",
       "    </tr>\n",
       "    <tr>\n",
       "      <th>2</th>\n",
       "      <td>4</td>\n",
       "      <td>4.3</td>\n",
       "      <td>6.875232</td>\n",
       "      <td>2000</td>\n",
       "      <td>11.512935</td>\n",
       "      <td>0.0</td>\n",
       "      <td>0</td>\n",
       "      <td>0</td>\n",
       "      <td>0</td>\n",
       "      <td>0</td>\n",
       "      <td>...</td>\n",
       "      <td>0</td>\n",
       "      <td>0</td>\n",
       "      <td>0</td>\n",
       "      <td>0</td>\n",
       "      <td>0</td>\n",
       "      <td>0</td>\n",
       "      <td>0</td>\n",
       "      <td>0</td>\n",
       "      <td>0</td>\n",
       "      <td>0</td>\n",
       "    </tr>\n",
       "    <tr>\n",
       "      <th>3</th>\n",
       "      <td>5</td>\n",
       "      <td>4.4</td>\n",
       "      <td>5.123964</td>\n",
       "      <td>5000</td>\n",
       "      <td>10.819798</td>\n",
       "      <td>0.0</td>\n",
       "      <td>0</td>\n",
       "      <td>0</td>\n",
       "      <td>0</td>\n",
       "      <td>0</td>\n",
       "      <td>...</td>\n",
       "      <td>0</td>\n",
       "      <td>0</td>\n",
       "      <td>0</td>\n",
       "      <td>0</td>\n",
       "      <td>0</td>\n",
       "      <td>0</td>\n",
       "      <td>0</td>\n",
       "      <td>0</td>\n",
       "      <td>0</td>\n",
       "      <td>0</td>\n",
       "    </tr>\n",
       "    <tr>\n",
       "      <th>4</th>\n",
       "      <td>6</td>\n",
       "      <td>3.8</td>\n",
       "      <td>5.187386</td>\n",
       "      <td>19000</td>\n",
       "      <td>10.819798</td>\n",
       "      <td>0.0</td>\n",
       "      <td>0</td>\n",
       "      <td>0</td>\n",
       "      <td>0</td>\n",
       "      <td>0</td>\n",
       "      <td>...</td>\n",
       "      <td>0</td>\n",
       "      <td>0</td>\n",
       "      <td>0</td>\n",
       "      <td>0</td>\n",
       "      <td>0</td>\n",
       "      <td>0</td>\n",
       "      <td>0</td>\n",
       "      <td>0</td>\n",
       "      <td>0</td>\n",
       "      <td>0</td>\n",
       "    </tr>\n",
       "  </tbody>\n",
       "</table>\n",
       "<p>5 rows × 148 columns</p>\n",
       "</div>"
      ],
      "text/plain": [
       "   index  Rating   Reviews   Size   Installs  Price  \\\n",
       "0      0     4.1  5.075174  19000   9.210440    0.0   \n",
       "1      1     3.9  6.875232  14000  13.122365    0.0   \n",
       "2      4     4.3  6.875232   2000  11.512935    0.0   \n",
       "3      5     4.4  5.123964   5000  10.819798    0.0   \n",
       "4      6     3.8  5.187386  19000  10.819798    0.0   \n",
       "\n",
       "   Category_AUTO_AND_VEHICLES  Category_BEAUTY  Category_BOOKS_AND_REFERENCE  \\\n",
       "0                           0                0                             0   \n",
       "1                           0                0                             0   \n",
       "2                           0                0                             0   \n",
       "3                           0                0                             0   \n",
       "4                           0                0                             0   \n",
       "\n",
       "   Category_BUSINESS  ...  Genres_Strategy;Action & Adventure  \\\n",
       "0                  0  ...                                   0   \n",
       "1                  0  ...                                   0   \n",
       "2                  0  ...                                   0   \n",
       "3                  0  ...                                   0   \n",
       "4                  0  ...                                   0   \n",
       "\n",
       "   Genres_Strategy;Creativity  Genres_Strategy;Education  Genres_Tools  \\\n",
       "0                           0                          0             0   \n",
       "1                           0                          0             0   \n",
       "2                           0                          0             0   \n",
       "3                           0                          0             0   \n",
       "4                           0                          0             0   \n",
       "\n",
       "   Genres_Travel & Local  Genres_Travel & Local;Action & Adventure  \\\n",
       "0                      0                                         0   \n",
       "1                      0                                         0   \n",
       "2                      0                                         0   \n",
       "3                      0                                         0   \n",
       "4                      0                                         0   \n",
       "\n",
       "   Genres_Trivia  Genres_Video Players & Editors  Genres_Weather  Genres_Word  \n",
       "0              0                               0               0            0  \n",
       "1              0                               0               0            0  \n",
       "2              0                               0               0            0  \n",
       "3              0                               0               0            0  \n",
       "4              0                               0               0            0  \n",
       "\n",
       "[5 rows x 148 columns]"
      ]
     },
     "execution_count": 40,
     "metadata": {},
     "output_type": "execute_result"
    }
   ],
   "source": [
    "inp1.head()"
   ]
  },
  {
   "cell_type": "code",
   "execution_count": null,
   "id": "d0ea35ce",
   "metadata": {},
   "outputs": [],
   "source": []
  },
  {
   "cell_type": "markdown",
   "id": "1415f5d2",
   "metadata": {},
   "source": [
    "## 9. Train test split"
   ]
  },
  {
   "cell_type": "code",
   "execution_count": 59,
   "id": "1fa146b3",
   "metadata": {},
   "outputs": [
    {
     "data": {
      "text/plain": [
       "array([[5.07517382e+00, 1.90000000e+04, 9.21044037e+00, ...,\n",
       "        0.00000000e+00, 0.00000000e+00, 0.00000000e+00],\n",
       "       [6.87523209e+00, 1.40000000e+04, 1.31223654e+01, ...,\n",
       "        0.00000000e+00, 0.00000000e+00, 0.00000000e+00],\n",
       "       [6.87523209e+00, 2.00000000e+03, 1.15129355e+01, ...,\n",
       "        0.00000000e+00, 0.00000000e+00, 0.00000000e+00],\n",
       "       ...,\n",
       "       [6.82762923e+00, 5.52000000e+02, 1.08197983e+01, ...,\n",
       "        0.00000000e+00, 0.00000000e+00, 0.00000000e+00],\n",
       "       [7.08673793e+00, 5.82000000e+02, 1.15129355e+01, ...,\n",
       "        0.00000000e+00, 1.00000000e+00, 0.00000000e+00],\n",
       "       [3.80666249e+00, 6.19000000e+02, 6.90875478e+00, ...,\n",
       "        0.00000000e+00, 0.00000000e+00, 0.00000000e+00]])"
      ]
     },
     "execution_count": 59,
     "metadata": {},
     "output_type": "execute_result"
    }
   ],
   "source": [
    "X = inp1.iloc[:,2:].values\n",
    "X"
   ]
  },
  {
   "cell_type": "code",
   "execution_count": 60,
   "id": "c35acb1f",
   "metadata": {},
   "outputs": [
    {
     "data": {
      "text/plain": [
       "array([[4.1],\n",
       "       [3.9],\n",
       "       [4.3],\n",
       "       ...,\n",
       "       [4.5],\n",
       "       [3.8],\n",
       "       [4.8]])"
      ]
     },
     "execution_count": 60,
     "metadata": {},
     "output_type": "execute_result"
    }
   ],
   "source": [
    "y = inp1[['Rating']].values\n",
    "y"
   ]
  },
  {
   "cell_type": "code",
   "execution_count": 61,
   "id": "2104a71e",
   "metadata": {},
   "outputs": [],
   "source": [
    "# Split the Ratio into Training and Test Set\n",
    "from sklearn.model_selection import train_test_split\n",
    "X_train,X_test,y_train,y_test = train_test_split(X,y,test_size = 0.3,random_state = 442)"
   ]
  },
  {
   "cell_type": "code",
   "execution_count": null,
   "id": "b06a28d1",
   "metadata": {},
   "outputs": [],
   "source": []
  },
  {
   "cell_type": "code",
   "execution_count": null,
   "id": "3dd47388",
   "metadata": {},
   "outputs": [],
   "source": []
  },
  {
   "cell_type": "markdown",
   "id": "85427e6b",
   "metadata": {},
   "source": [
    "## 10. Separate the dataframes into X_train, y_train, X_test, and y_test."
   ]
  },
  {
   "cell_type": "code",
   "execution_count": 62,
   "id": "68c0476f",
   "metadata": {},
   "outputs": [
    {
     "data": {
      "text/plain": [
       "array([[3.68887945e+00, 2.00000000e+03, 8.51739317e+00, ...,\n",
       "        0.00000000e+00, 0.00000000e+00, 0.00000000e+00],\n",
       "       [4.97673374e+00, 6.00000000e+03, 6.90875478e+00, ...,\n",
       "        0.00000000e+00, 0.00000000e+00, 0.00000000e+00],\n",
       "       [7.59387784e+00, 2.80000000e+04, 9.21044037e+00, ...,\n",
       "        0.00000000e+00, 0.00000000e+00, 0.00000000e+00],\n",
       "       ...,\n",
       "       [2.56494936e+00, 1.80000000e+04, 6.90875478e+00, ...,\n",
       "        0.00000000e+00, 0.00000000e+00, 0.00000000e+00],\n",
       "       [5.63478960e+00, 1.00000000e+03, 9.21044037e+00, ...,\n",
       "        0.00000000e+00, 0.00000000e+00, 0.00000000e+00],\n",
       "       [3.93182563e+00, 4.00000000e+03, 6.90875478e+00, ...,\n",
       "        0.00000000e+00, 0.00000000e+00, 0.00000000e+00]])"
      ]
     },
     "execution_count": 62,
     "metadata": {},
     "output_type": "execute_result"
    }
   ],
   "source": [
    "X_test"
   ]
  },
  {
   "cell_type": "code",
   "execution_count": 63,
   "id": "c09f515a",
   "metadata": {},
   "outputs": [
    {
     "data": {
      "text/plain": [
       "array([[1.03853580e+01, 1.00000000e+04, 1.38155116e+01, ...,\n",
       "        0.00000000e+00, 0.00000000e+00, 0.00000000e+00],\n",
       "       [5.25749537e+00, 5.00000000e+03, 1.08197983e+01, ...,\n",
       "        0.00000000e+00, 0.00000000e+00, 0.00000000e+00],\n",
       "       [4.99043259e+00, 6.00000000e+03, 9.21044037e+00, ...,\n",
       "        0.00000000e+00, 0.00000000e+00, 0.00000000e+00],\n",
       "       ...,\n",
       "       [3.63758616e+00, 1.00000000e+04, 6.90875478e+00, ...,\n",
       "        0.00000000e+00, 0.00000000e+00, 0.00000000e+00],\n",
       "       [3.13549422e+00, 1.80000000e+04, 9.21044037e+00, ...,\n",
       "        0.00000000e+00, 0.00000000e+00, 0.00000000e+00],\n",
       "       [6.45362500e+00, 1.00000000e+03, 1.15129355e+01, ...,\n",
       "        0.00000000e+00, 0.00000000e+00, 0.00000000e+00]])"
      ]
     },
     "execution_count": 63,
     "metadata": {},
     "output_type": "execute_result"
    }
   ],
   "source": [
    "X_train"
   ]
  },
  {
   "cell_type": "code",
   "execution_count": 64,
   "id": "d545d283",
   "metadata": {},
   "outputs": [
    {
     "data": {
      "text/plain": [
       "array([[3.7],\n",
       "       [4.6],\n",
       "       [4.5],\n",
       "       ...,\n",
       "       [4.8],\n",
       "       [4.2],\n",
       "       [3.1]])"
      ]
     },
     "execution_count": 64,
     "metadata": {},
     "output_type": "execute_result"
    }
   ],
   "source": [
    "y_test"
   ]
  },
  {
   "cell_type": "code",
   "execution_count": 65,
   "id": "e8212255",
   "metadata": {},
   "outputs": [
    {
     "data": {
      "text/plain": [
       "array([[4.6],\n",
       "       [3.5],\n",
       "       [4.3],\n",
       "       ...,\n",
       "       [4.7],\n",
       "       [4.3],\n",
       "       [4.4]])"
      ]
     },
     "execution_count": 65,
     "metadata": {},
     "output_type": "execute_result"
    }
   ],
   "source": [
    "y_train"
   ]
  },
  {
   "cell_type": "code",
   "execution_count": null,
   "id": "e19a6191",
   "metadata": {},
   "outputs": [],
   "source": []
  },
  {
   "cell_type": "markdown",
   "id": "1d9e0ad4",
   "metadata": {},
   "source": [
    "## 11 . Model building "
   ]
  },
  {
   "cell_type": "code",
   "execution_count": 66,
   "id": "f2ab20ba",
   "metadata": {},
   "outputs": [
    {
     "data": {
      "text/plain": [
       "LinearRegression()"
      ]
     },
     "execution_count": 66,
     "metadata": {},
     "output_type": "execute_result"
    }
   ],
   "source": [
    "from sklearn.linear_model import LinearRegression\n",
    "regressor = LinearRegression()\n",
    "regressor.fit(X_train,y_train)"
   ]
  },
  {
   "cell_type": "code",
   "execution_count": 67,
   "id": "b764df5e",
   "metadata": {},
   "outputs": [],
   "source": [
    "y_pred = regressor.predict(X_test)"
   ]
  },
  {
   "cell_type": "markdown",
   "id": "46eff7c5",
   "metadata": {},
   "source": [
    "### Checking the Predicted value and Actual Value "
   ]
  },
  {
   "cell_type": "code",
   "execution_count": 68,
   "id": "c84637ab",
   "metadata": {},
   "outputs": [
    {
     "data": {
      "text/plain": [
       "array([[4.07203891],\n",
       "       [4.23971539],\n",
       "       [4.53183974],\n",
       "       ...,\n",
       "       [3.97337885],\n",
       "       [4.31902391],\n",
       "       [4.39130751]])"
      ]
     },
     "execution_count": 68,
     "metadata": {},
     "output_type": "execute_result"
    }
   ],
   "source": [
    "y_pred"
   ]
  },
  {
   "cell_type": "code",
   "execution_count": 69,
   "id": "bf99d81e",
   "metadata": {},
   "outputs": [
    {
     "data": {
      "text/plain": [
       "array([[3.7],\n",
       "       [4.6],\n",
       "       [4.5],\n",
       "       ...,\n",
       "       [4.8],\n",
       "       [4.2],\n",
       "       [3.1]])"
      ]
     },
     "execution_count": 69,
     "metadata": {},
     "output_type": "execute_result"
    }
   ],
   "source": [
    "y_test"
   ]
  },
  {
   "cell_type": "markdown",
   "id": "6a09f34a",
   "metadata": {},
   "source": [
    "### Scatter Plot "
   ]
  },
  {
   "cell_type": "code",
   "execution_count": 70,
   "id": "d55b6fd8",
   "metadata": {},
   "outputs": [
    {
     "data": {
      "text/plain": [
       "Text(0, 0.5, 'Predicted Y')"
      ]
     },
     "execution_count": 70,
     "metadata": {},
     "output_type": "execute_result"
    },
    {
     "data": {
      "image/png": "[encoded data removed]",
      "text/plain": [
       "<Figure size 432x288 with 1 Axes>"
      ]
     },
     "metadata": {
      "needs_background": "light"
     },
     "output_type": "display_data"
    }
   ],
   "source": [
    "plt.scatter(y_test,y_pred)\n",
    "plt.xlabel('Y Test')\n",
    "plt.ylabel('Predicted Y')"
   ]
  },
  {
   "cell_type": "code",
   "execution_count": null,
   "id": "16710434",
   "metadata": {},
   "outputs": [],
   "source": []
  },
  {
   "cell_type": "markdown",
   "id": "99e5fb0a",
   "metadata": {},
   "source": [
    "## 12. Make predictions on test set "
   ]
  },
  {
   "cell_type": "code",
   "execution_count": 71,
   "id": "3f8570f3",
   "metadata": {},
   "outputs": [
    {
     "name": "stdout",
     "output_type": "stream",
     "text": [
      "[[4.07203891 3.7       ]\n",
      " [4.23971539 4.6       ]\n",
      " [4.53183974 4.5       ]\n",
      " ...\n",
      " [3.97337885 4.8       ]\n",
      " [4.31902391 4.2       ]\n",
      " [4.39130751 3.1       ]]\n"
     ]
    }
   ],
   "source": [
    "y_pred = regressor.predict(X_test)\n",
    "np.set_printoptions()\n",
    "print(np.concatenate((y_pred.reshape(len(y_pred),1),y_test.reshape(len(y_test),1)),1))"
   ]
  },
  {
   "cell_type": "code",
   "execution_count": null,
   "id": "65f06e24",
   "metadata": {},
   "outputs": [],
   "source": []
  }
 ],
 "metadata": {
  "kernelspec": {
   "display_name": "Python 3 (ipykernel)",
   "language": "python",
   "name": "python3"
  },
  "language_info": {
   "codemirror_mode": {
    "name": "ipython",
    "version": 3
   },
   "file_extension": ".py",
   "mimetype": "text/x-python",
   "name": "python",
   "nbconvert_exporter": "python",
   "pygments_lexer": "ipython3",
   "version": "3.9.12"
  }
 },
 "nbformat": 4,
 "nbformat_minor": 5
}
